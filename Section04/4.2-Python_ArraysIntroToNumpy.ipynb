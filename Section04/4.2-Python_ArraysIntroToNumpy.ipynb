{
    "cells": [
        {
            "cell_type": "markdown",
            "metadata": {},
            "source": [
                "# Data Analytics\n",
                "\n",
                "## Python Arrays, and Intro to NumPy\n",
                "\n",
                "We are going to learn about ...\n",
                "\n",
                "- Python and Arrays\n",
                "- An introduction to NumPy\n",
                "\n",
                "<br>\n",
                "\n",
                "---\n",
                "\n",
                "<br>"
            ]
        },
        {
            "cell_type": "markdown",
            "metadata": {},
            "source": [
                "### What is an Array?\n",
                "\n",
                "An array is basically a data structure which can hold more than one value at a time. It is a collection or ordered series of elements of the same type.\n",
                "\n",
                "An array is a collection of items stored at contiguous memory locations. The idea is to store multiple items of the same type together. \n",
                "\n",
                "This makes it easier to calculate the position of each element in memory, by simply adding an offset to a base value, i.e., the memory location of the first element of the array (generally denoted by the name of the array).\n",
                "\n",
                "If you have a list of items (a list of car names, for example), storing the cars in single variables could look like this:\n",
                "\n",
                "```python\n",
                "    car1 = \"Ford\"\n",
                "    car2 = \"Volvo\"\n",
                "    car3 = \"BMW\"\n",
                "```\n",
                "\n",
                "However, what if you want to loop through the cars and find a specific one? And what if you had not 3 cars, but 300?\n",
                "\n",
                "The solution is an array!\n",
                "\n",
                "An array can hold many values -- in square brackets -- under a single name, and you can access the values by referring to an index number.\n",
                "\n",
                "```python\n",
                "    # Create an array containing car names\n",
                "    cars = [\"Ford\", \"Volvo\", \"BMW\"]\n",
                "```\n",
                "\n",
                "_Arrays are most useful when we have to manipulate values of only one specific data type_. \n",
                "\n",
                "> Python does not have built-in support for Arrays by default, but there are other ways to implement the benefits of Arrays.\n",
                "\n",
                "Arrays could be handled in Python by a module named `array`. However, we will not examine the `Array` module any further as it's complexities are beyond the scope of this curriculum.\n",
                "\n",
                "We could also treat `list`s as arrays. _However, lists and arrays are not the same thing._\n",
                "\n",
                "#### What's the Difference between Python Lists and Python Arrays?\n",
                "\n",
                "Lists and arrays behave similarly. Just like lists, arrays are an ordered sequence of elements. Both are also mutable and not fixed in size, which means iItems can be added and removed, making them very flexible to work with.\n",
                "\n",
                "The difference lies in the data types that can be stored:\n",
                "\n",
                "    -   Lists store items that are of various data types, \n",
                "    -   while arrays store only elements of the same data type.\n",
                "\n",
                "<br>\n",
                "\n",
                "> **For our purposes of Data Analysis, We'll learn about and use the `NumPy` module built for the manipulation of multi-dimensional array data.**\n",
                "\n"
            ]
        },
        {
            "cell_type": "markdown",
            "metadata": {},
            "source": [
                "\n",
                "---\n",
                "\n",
                "### Python NumPy Array vs. List\n",
                "\n",
                "We use Python NumPy array instead of a list because of the below three reasons:\n",
                "\n",
                "- Less Memory - NumPy arrays occupy less memory as compared to list\n",
                "- Fast - NumPy arrays are fast compared to lists\n",
                "- Convenient - it is convenient to work with NumPy\n",
                "\n",
                "> Biggest difference between Python lists and NumPy arrays:- NumPy array elements are homogeneous -- of the same or a similar kind or nature.\n"
            ]
        },
        {
            "cell_type": "code",
            "execution_count": null,
            "metadata": {},
            "outputs": [],
            "source": [
                "#### JUST AN INTERESTING  TEST ####\n",
                "# how much memory is consumed by NumPy vs Lists\n",
                "import numpy as np\n",
                "import time, sys\n",
                "\n",
                "pyList = range(1000)    # allocate a list\n",
                "print(\"Memory size of pyList ...\", sys.getsizeof(pyList)*len(pyList))\n",
                "\n",
                "pyArray = np.arange(1000)   # allocate a NumPy array\n",
                "print(\"Memory size of NumPy Array ...\", pyArray.size*pyArray.itemsize)"
            ]
        },
        {
            "cell_type": "code",
            "execution_count": null,
            "metadata": {},
            "outputs": [],
            "source": [
                "#### ANOTHER INTERESTING  TEST ####\n",
                "# how fast is NumPy vs Lists\n",
                "import time, sys\n",
                "SIZE = 1000000\n",
                "\n",
                "# create 2 lists and 2 arrays of equal size \n",
                "L1 = range(SIZE)\n",
                "L2 = range(SIZE)\n",
                "\n",
                "A1 = np.arange(SIZE)\n",
                "A2 = np.arange(SIZE)\n",
                "\n",
                "# time to find the sum of lists\n",
                "start = time.time()\n",
                "result = [(x,y) for x,y in zip(L1,L2)]\n",
                "print(\"List time in ms ...\", (time.time()-start)*1000)\n",
                "\n",
                "# time to find the sum of numpy arrays\n",
                "start = time.time()\n",
                "result = A1+A2\n",
                "print(\"NumPy time in ms ...\", (time.time()-start)*1000)\n"
            ]
        },
        {
            "cell_type": "markdown",
            "metadata": {},
            "source": [
                "\n",
                "If you would like to read more about the Python array method, here is a FreeCodeCamp.com article on the topic ... [Python Array Tutorial – Define, Index, Methods](https://www.freecodecamp.org/news/python-array-tutorial-define-index-methods/)\n"
            ]
        },
        {
            "cell_type": "markdown",
            "metadata": {},
            "source": [
                "\n",
                "---\n",
                "\n",
                "<br>\n",
                "\n",
                "## Python NumPy Module\n",
                "\n",
                "We'll look at aspects such as ...\n",
                "\n",
                "- What are NumPy Arrays?\n",
                "- Where is NumPy used?\n",
                "- NumPy Arrays v/s List\n",
                "- Why NumPy is used in Python?\n",
                "- NumPy Operations\n",
                "\n",
                "<br>\n",
                "\n",
                "![What Is Numpy](images/What_Is_NumPy.png)"
            ]
        },
        {
            "cell_type": "markdown",
            "metadata": {},
            "source": [
                "### Introduction\n",
                "\n",
                "**NumPy** (_Numerical Python_) is an open-source library for the Python programming language. It is used for scientific computing and working with arrays.\n",
                "\n",
                "Apart from its multidimensional array object, it also provides high-level functioning tools for working with such arrays.\n"
            ]
        },
        {
            "cell_type": "markdown",
            "metadata": {},
            "source": [
                "### What NumPy Does\n",
                "\n",
                "- It contains a _multidimensional array_ and matrix data structure (in the form of rows and columns)\n",
                "- Provides a powerful homogeneous _N-dimensional array object_\n",
                "- Supplies an enormous library of high-level mathematical functions that operate on these arrays and matrices\n",
                "- Provides sophisticated _broadcasting_ functions\n",
                "- Adds powerful data structures to Python that guarantee _efficient calculations_ with arrays and matrices\n",
                "\n",
                "<br>\n",
                "\n",
                "![The uses of NumPy](images/Uses-of-NumPy.png)\n",
                "\n",
                "<br>\n",
                "\n",
                "Besides its obvious scientific uses, NumPy can also be used as an efficient multi-dimensional container of generic data. \n",
                "\n",
                "Arbitrary data-types can be defined. This allows NumPy to seamlessly and speedily integrate with a wide variety of databases.\n",
                "\n",
                "<br>"
            ]
        },
        {
            "cell_type": "markdown",
            "metadata": {},
            "source": [
                "### NumPy works along with other Packages\n",
                "\n",
                "NumPy combines well with other Python packages like SciPy, Pandas,  Matplotlib, Tkinter, etc. \n",
                "\n",
                "The combination of NumPy with other libraries implements a variety of Data Science and Analytics utilities for data wrangling and visualizations etc.\n",
                "\n",
                "![Applications of NumPy](images/Applications-of-NumPy.png)"
            ]
        },
        {
            "cell_type": "markdown",
            "metadata": {},
            "source": [
                "\n",
                "### What is a Multi-Dimensional Array\n",
                "\n",
                "We could graphically display the different elements of an array stored in their respective memory locations, in an image like this. \n",
                "\n",
                "This image represents a two-dimensional (2-D) array, because it has 2 plains (rows as well as columns) -- 4 rows and 3 columns of address locations available; or an X and Y axis if one thinks of the data being arranged on axes.\n",
                "\n",
                "![A Multi Dimensional Array](images/MultiDimensionalArray.png)\n",
                "\n",
                "NumPy has capabilities to handle more than 2 dimensions of data. Think 3-D, like a cube or something with an X, Y, and Z axes. \n",
                "\n",
                "But, NumPy can even do more than 3 dimensions like 4-D etc. ...\n",
                "> Note: - NUMPY ARRAY AXES ARE NUMBERED STARTING WITH ‘0’\n"
            ]
        },
        {
            "cell_type": "markdown",
            "metadata": {},
            "source": [
                "### Useful NumPy keywords\n",
                "\n",
                "- **Ndarray** == N-dimensional array\n",
                "- **dtype** == array data type\n",
                "- **1-D** == one dimensional array\n",
                "- **2-D** == two-dimensional array\n",
                "- **3-D** == three-dimensional array\n",
                "- **Vector** == an array with a single dimension\n",
                "- **Matrix** == an array with two dimensions\n",
                "- **Tensor** == an array with 3+ dimensions\n",
                "- **Dimensions** == the number of axes of an array\n"
            ]
        },
        {
            "cell_type": "markdown",
            "metadata": {},
            "source": [
                "\n",
                "### More about NumPy Arrays\n",
                "\n",
                "- Usually a fixed-size container of items of the same type and size\n",
                "- An array is the central data structure of the NumPy library\n",
                "- The number of `dimensions` and items in an array defines its `SHAPE`\n",
                "- The `shape` is a _**tuple** of non-negative integers_ that specify the dimentions, length and size of each array (3,2,4)\n",
                "- The rank of the array is the number of its `dimensions`\n",
                "\n",
                "> You can read all about NumPy at the NumPy project website -- [https://numpy.org/](https://numpy.org/)\n"
            ]
        },
        {
            "cell_type": "markdown",
            "metadata": {},
            "source": [
                "\n",
                "### Finding the shape and size of NumPy arrays ...\n",
                "\n",
                "- Find the number of dimensions of an array with -- `.ndim()`\n",
                "- Find the shape (number of elements in each dimension) with -- `.shape()`\n",
                "- Find the size (number of all elements) of the a NumPy array with -- `.size()`\n",
                "\n",
                "The built-in function `.len()` returns the size of the **_first dimension_**; not to be confused with the number of dimensions in the NumPy array."
            ]
        },
        {
            "cell_type": "markdown",
            "metadata": {},
            "source": [
                "**About array `size`:-**\n",
                "\n",
                "`size` reflects the number of elements in the array, and is equal to the product of the array’s dimensions. \n",
                "Examples:-  \n",
                "\n",
                "    -   3D shape: (4,3,2) -- 4 x 3 x 2 = 24 elements\n",
                "    -   2D shape: (2,3) -- 2 x 3 = 6 elements\n",
                "\n",
                "<br>"
            ]
        },
        {
            "cell_type": "markdown",
            "metadata": {},
            "source": [
                "\n",
                "![NumPy Multi-Dimensional Arrays](images/numpy_array_t.png)\n"
            ]
        },
        {
            "cell_type": "markdown",
            "metadata": {},
            "source": [
                "#### **2D Arrays**\n",
                "\n",
                "> **NOTE: -** In the case of a two-dimensional (2-D) array, `shape` is the number of rows - 1st axis (0), and  number of columns - 2nd axis (1). \n",
                "\n",
                "If you only want to get either the number of rows, or the number of columns of a 2-D array, you can get the shape of each element of the tuple individually.\n"
            ]
        },
        {
            "cell_type": "code",
            "execution_count": null,
            "metadata": {},
            "outputs": [],
            "source": [
                "# Example of discovering the shape and size of a Numpy Array\n",
                "import numpy as np\n",
                "\n",
                "# build an array\n",
                "# `arange` creates a list of elements\n",
                "# reshape the list into a matrix / array\n",
                "a_2d = np.arange(12).reshape((3, 4))\n",
                "print(\"The a_2d array ...\\n\", a_2d)\n",
                "\n",
                "print(\"\\nNumber of dimension ...\", a_2d.ndim)\n",
                "# shape is the number of rows (1st axis), and  number of columns (2nd axis). \n",
                "print(\"Shape of array ...\", a_2d.shape)\n",
                "\n",
                "# get either the number of rows, or number of columns\n",
                "print(\"\\nnumber of rows ...\", a_2d.shape[0])\n",
                "print(\"number of columns ...\", a_2d.shape[1])"
            ]
        },
        {
            "cell_type": "markdown",
            "metadata": {},
            "source": [
                "<br>\n",
                "\n",
                "#### **3D Arrays**\n",
                "\n",
                "![Numpy 3-D Array / Tensor visualized...](images/NumPy_3D_Tensor.png)"
            ]
        },
        {
            "cell_type": "markdown",
            "metadata": {},
            "source": [
                "> **NOTE: -** For three-dimensional (3-D) arrays, shape is ...\n",
                "\n",
                "    -   the number of dimensions/axes (0, 1, 2, etc.);\n",
                "    -   shape/length of each dimension (rows);\n",
                "    -   and the size/number of elements (columns).\n",
                "    "
            ]
        },
        {
            "cell_type": "code",
            "execution_count": null,
            "metadata": {},
            "outputs": [],
            "source": [
                "# Another Example: - Discovering the shape and size of a 3D NumPy Array\n",
                "import numpy as np\n",
                "\n",
                "# this is a very stylized layout of an array\n",
                "# note the Tuple with a list of lists, with lists\n",
                "array_example = np.array(\n",
                "                            [  \n",
                "                                [ [0, 1, 2, 3, 4], [5, 6, 7, 8, 9] ],\n",
                "                                [ [0, 1, 2, 3, 4], [5, 6, 7, 8, 9] ],\n",
                "                                [ [0, 1, 2, 3, 4], [5, 6, 7, 8, 9] ],\n",
                "                                [ [0, 1, 2, 3, 4], [5, 6, 7, 8, 9] ],\n",
                "                                [ [0 ,1 ,2, 3, 4], [5, 6, 7, 8, 9] ] \n",
                "                            ]\n",
                "                        )\n",
                "\n",
                "# 3 dimensions/axes\n",
                "print(\"Array dimensions / axes ...\", array_example.ndim)\n",
                "\n",
                "# 50 total size/number of elements of array\n",
                "print(\"Total number of elements ...\", array_example.size)  \n",
                "\n",
                "# shape is the number of elements in each dimension = 5, 2, 5\n",
                "print(\"Array shape ...\", array_example.shape)\n",
                "\n",
                "# len() returns the size of the first dimension\n",
                "print(\"array_example length ...\", len(array_example))\n",
                "\n",
                "print(\"\\narray_example ...\\n\", array_example)"
            ]
        },
        {
            "cell_type": "code",
            "execution_count": null,
            "metadata": {},
            "outputs": [],
            "source": [
                "# Creating an array of 6 dimensions using ndim\n",
                "# with a vector containing values [2,4,6,8,10]\n",
                "# and verifying the shape\n",
                "import numpy as np\n",
                "\n",
                "# creating an array of 6 dimension using ndim\n",
                "arrTest = np.array([2, 4, 6, 8, 10], ndmin=6)\n",
                "print(\"Array of 6 dimensions ...\" arrTest)\n",
                "\n",
                "# verifying the shape\n",
                "print('\\nshape of arrTest ...\\n', arrTest.shape)\n",
                "\n",
                "# .len() returns the size of the first dimension\n",
                "print(\"\\nlength of arrTest ...\", len(arrTest))"
            ]
        },
        {
            "cell_type": "markdown",
            "metadata": {},
            "source": [
                "#### Note About NumPy Axes:-\n",
                "\n",
                "The most confusing part of understanding NumPy arrays is how to work with axes, especially when it gets to 3 or more ...\n",
                "\n",
                "Here is a different look at how the Axes in NumPy work: [NumPy Axes, Explained](https://www.sharpsightlabs.com/blog/numpy-axes-explained/)\n",
                "\n",
                "<br>\n"
            ]
        },
        {
            "cell_type": "markdown",
            "metadata": {},
            "source": [
                "\n",
                "---\n",
                "\n",
                "<br>\n",
                "\n",
                "### Let's Get Physical and Create Some Arrays\n",
                "\n",
                "\n",
                "#### **Install NumPy**\n",
                "\n",
                "With Pip setup on your system, you can use the command line for installing NumPy.\n",
                "\n",
                "Install NumPy with Python by typing:\n",
                "\n",
                "```bash\n",
                "    pip install numpy\n",
                "```\n",
                "\n",
                "#### **Importing NumPy into your projects**\n",
                "\n",
                "To use NumPy we need to import it like any other modules\n"
            ]
        },
        {
            "cell_type": "code",
            "execution_count": null,
            "metadata": {},
            "outputs": [],
            "source": [
                "# Import the module\n",
                "import numpy\n",
                "\n",
                "# OR import and alias the module for easy inline use\n",
                "import numpy as np"
            ]
        },
        {
            "cell_type": "markdown",
            "metadata": {},
            "source": [
                "\n",
                "#### **Creating NumPy Arrays**\n",
                "\n",
                "All you need to do to create a simple array is pass a list to it. If you choose to, you can also specify the type of data in your list\n",
                "\n",
                "To create a NumPy array, you can use the function `np.array()`."
            ]
        },
        {
            "cell_type": "code",
            "execution_count": null,
            "metadata": {},
            "outputs": [],
            "source": [
                "# creating Numpy Arrays -- from a list with SAME DATA TYPES\n",
                "import numpy as np\n",
                "\n",
                "a1 = np.array([1, 2, 3, 4, 5, 6])\n",
                "print(\"a1 ...\\n\", a1)\n",
                "\n",
                "a2 = np.array([[1, 2, 3, 4], [5, 6, 7, 8], [9, 10, 11, 12]])\n",
                "print(\"a2 ...\\n\", a2)\n"
            ]
        },
        {
            "cell_type": "markdown",
            "metadata": {},
            "source": [
                "\n",
                "Besides creating an array from a sequence of elements, \n",
                "    \n",
                "    -- you can easily create an array filled with 0’s, or 1's :"
            ]
        },
        {
            "cell_type": "code",
            "execution_count": null,
            "metadata": {},
            "outputs": [],
            "source": [
                "# creating arrays filled with ONEs or ZEROs\n",
                "import numpy as np\n",
                "\n",
                "# build an array with 4x zeros\n",
                "b = np.zeros(4)\n",
                "print(\"b ...\", b)\n",
                "\n",
                "# build an array with 3x ones\n",
                "c = np.ones(3)\n",
                "print(\"c ...\", c)\n"
            ]
        },
        {
            "cell_type": "markdown",
            "metadata": {},
            "source": [
                "**Or even create an empty array!**\n",
                "\n",
                "The function `empty` creates an array whose initial content is random and depends on the state of the memory. The reason to use `empty()` over `zeros()` (or something similar) is speed - just make sure to fill every element afterwards!"
            ]
        },
        {
            "cell_type": "code",
            "execution_count": null,
            "metadata": {},
            "outputs": [],
            "source": [
                "# create an empty array\n",
                "import numpy as np\n",
                "\n",
                "d = np.empty(3)\n",
                "print(\"d ...\", d)"
            ]
        },
        {
            "cell_type": "markdown",
            "metadata": {},
            "source": [
                "**You can create an array with a range of elements**:\n"
            ]
        },
        {
            "cell_type": "code",
            "execution_count": null,
            "metadata": {},
            "outputs": [],
            "source": [
                "# create an array from `a range`\n",
                "import numpy as np\n",
                "\n",
                "# create an array with `a range` of numbers from 0 upto, but not including 5\n",
                "e = np.arange(5)\n",
                "print(\"e =\", e)"
            ]
        },
        {
            "cell_type": "markdown",
            "metadata": {},
            "source": [
                "**And an array that contains a range of evenly spaced intervals!**\n",
                "\n",
                "To do this, you will specify the first number, last number, and the step size.\n",
                "\n",
                "Note: This creates a range from the 1st num, up to but not including the 2nd num."
            ]
        },
        {
            "cell_type": "code",
            "execution_count": null,
            "metadata": {},
            "outputs": [],
            "source": [
                "# Contains `a range`` of evenly spaced intervals\n",
                "# between 1st num, and 2nd num, in steps of 3rd num\n",
                "import numpy as np\n",
                "\n",
                "# Create `a range` of evenly spaced intervals\n",
                "# between 1st num, and 2nd num, in steps of 3rd num\n",
                "f = np.arange(2, 9, 2)\n",
                "print(\"f ...\",  f)"
            ]
        },
        {
            "cell_type": "markdown",
            "metadata": {},
            "source": [
                "**You can also use `.linspace()` to create an array with linearly spaced values at a specified number of intervals**:"
            ]
        },
        {
            "cell_type": "code",
            "execution_count": null,
            "metadata": {},
            "outputs": [],
            "source": [
                "# create an array with linearly spaced values at a specified interval\n",
                "import numpy as np\n",
                "\n",
                "# create an array with linearly spaced values at a specified number of intervals\n",
                "# range from 0 up to 14 in 5 intervals -- including 0 and 14\n",
                "g = np.linspace(0, 14, num=5)\n",
                "print(\"Array g ...\", g)"
            ]
        },
        {
            "cell_type": "markdown",
            "metadata": {},
            "source": [
                "**Specifying the data type of an array**\n",
                "\n",
                "While the default data type of a NumPy Array is floating point (np.float64), you can explicitly specify which data type you want using the `dtype` keyword.\n",
                "\n",
                "NumPy supports a much greater variety of numerical data types than Python does.\n",
                "\n",
                "Along with these NumPy dtypes there are a bunch of methods to change and manipulate data types. So, even though your data might be of one type, you could possibly change that to better work with your project.\n",
                "\n",
                "> Read much, much more on NumPy `dtypes` in this article -- [NumPy Datatypes](https://www.javatpoint.com/numpy-datatypes)"
            ]
        },
        {
            "cell_type": "code",
            "execution_count": null,
            "metadata": {},
            "outputs": [],
            "source": [
                "# explicitly specify which data type you want\n",
                "import numpy as np\n",
                "\n",
                "h = np.ones(2, dtype=np.int64)\n",
                "print(h)"
            ]
        },
        {
            "cell_type": "markdown",
            "metadata": {},
            "source": [
                "\n",
                "You can learn more about creating arrays here -- [NumPy.org - QuickStart Array Creation](https://numpy.org/doc/stable/user/quickstart.html#quickstart-array-creation)"
            ]
        },
        {
            "cell_type": "markdown",
            "metadata": {},
            "source": [
                "\n",
                "---\n",
                "\n",
                "#### **Reshaping NumPy Arrays**\n",
                "\n",
                "Sometimes, we need to reshape the data in an array, from wide to long for example. As the name suggests, the `numpy.reshape()` function helps us to get a new shape to an array without changing its data.\n",
                "\n",
                "The NumPy reshape operation changes the shape of an array so that it has a new (but compatible) shape. The rules are:\n",
                "\n",
                "- The number of elements stays the same.\n",
                "- The order of the elements stays the same[1].\n",
                "\n",
                "This function returns a nd-array. It is a new view object if possible; otherwise, it will be a shallow copy. There is no guarantee of the memory layout of the returned array.\n",
                "\n",
                "        Syntax: -   numpy.reshape(arr, new_shape)"
            ]
        },
        {
            "cell_type": "markdown",
            "metadata": {},
            "source": [
                "![NumPy Array Reshaping](images/NumPy_Array_Reshaping.png)"
            ]
        },
        {
            "cell_type": "code",
            "execution_count": null,
            "metadata": {},
            "outputs": [],
            "source": [
                "# reshaping a NumPy \n",
                "import numpy as np\n",
                "\n",
                "aArray = np.array([[1,2,3], [4,5,6]])\n",
                "bArray = np.array([1, 2, 3, 4, 5, 6, 7, 8, 9, 10, 11, 12])\n",
                "print(\"newShape1 ...\\n\", aArray)\n",
                "\n",
                "newShape1 = np.reshape(aArray, 6)\n",
                "print(\"newShape1 ...\", newShape1)\n",
                "\n",
                "newShape2 = bArray.reshape(3, 2, 2)\n",
                "print(\"\\nnewShape3 ...\\n\", newShape2)"
            ]
        },
        {
            "cell_type": "markdown",
            "metadata": {},
            "source": [
                "#### Reshaping using an \"Unknown\" dimension / size\n",
                "\n",
                "The `numpy.array.reshape()` function can be called with an “unknown dimension”. This is possible by specifying `-1` as the unspecified dimension.\n",
                "\n",
                "In NumPy, -1 in `.reshape(3,-1)` refers to an unknown dimension that the `.reshape()` function calculates for you, based on the context of the array.\n",
                "\n",
                "A common use case is to flatten a nested array of an unknown number of elements to a 1D array."
            ]
        },
        {
            "cell_type": "code",
            "execution_count": null,
            "metadata": {},
            "outputs": [],
            "source": [
                "# reshaping using an \"Unknown\" dimension\n",
                "import numpy as np\n",
                "\n",
                "aArray = np.array([[1,2,3,4,5,6,7,8], [11,12,23,34,45,56,67,78]])\n",
                "print(\"newShape1 ...\\n\", aArray)\n",
                "\n",
                "newShape3 = aArray.reshape(4,-1)\n",
                "print(\"\\nnewShape3 ...\\n\", newShape3)"
            ]
        },
        {
            "cell_type": "markdown",
            "metadata": {},
            "source": [
                "#### Other NumPy methods to help reshape Arrays ...\n",
                "\n",
                "There are several functions to help reshaping / resizing NumPy arrays like ...\n",
                "\n",
                "- `np.vstack()` = used to stack arrays in sequence vertically (row wise) [NumPy: vstack() function](https://www.w3resource.com/numpy/manipulation/vstack.php)\n",
                "\n",
                "- `np.hstack()` = used to stack arrays in sequence horizontally (column wise) [NumPy: hstack() function](https://www.w3resource.com/numpy/manipulation/hstack.php)\n",
                "\n",
                "- `np.hsplit()` = used to split an array into multiple sub-arrays horizontally (column-wise) [NumPy: hsplit() function](https://www.w3resource.com/numpy/manipulation/hsplit.php)"
            ]
        },
        {
            "cell_type": "markdown",
            "metadata": {},
            "source": [
                "\n",
                "---\n",
                "\n",
                "### **Copy NumPy Arrays**\n",
                "\n",
                "When working with an array, one might **NOT** want to change the original data. So, often it is useful to make a a copy of the original data array.\n",
                "\n",
                "Essentially, you’ll sometimes want copies that you can modify without automatically modifying the original data at the same time. \n",
                "\n",
                "**_When making copies, there’s an important difference between shallow and deep copying:_**\n",
                "\n",
                "- **A shallow copy** means constructing a new collection object and then populating it with references to the child objects found in the original. In essence, a shallow copy is only one level deep. The copying process does not recurse and therefore won’t create copies of the child objects themselves. **_Both arrays share the same child objects_**.\n",
                "\n",
                "- **A deep copy** makes the copying process recursive. It means first constructing a new collection object and then recursively populating it with copies of the child objects found in the original. Copying an object this way walks the whole object tree to _create a fully independent clone_ of the original object and all of its children.\n",
                "\n",
                "The `deepcopy()` function inside the copy module is used to deep copy lists, but it also works just fine with arrays in Python. \n",
                "\n",
                "The `copy.deepcopy()` function takes the array as an input argument and returns a deep copy of the array."
            ]
        },
        {
            "cell_type": "code",
            "execution_count": null,
            "metadata": {},
            "outputs": [],
            "source": [
                "# best way to DEEP copy a NumPy Array:\n",
                "import copy\n",
                "\n",
                "xArray = [[1, 2, 3], [4, 5, 6], [7, 8, 9]]\n",
                "zArray = copy.deepcopy(xArray)\n",
                "\n",
                "print(\"The xArray ...\\n\", xArray)\n",
                "print(\"\\nThe zArray ...\\n\", xArray)"
            ]
        },
        {
            "cell_type": "markdown",
            "metadata": {},
            "source": [
                "\n",
                "Read more about the different 'degrees' at which Python objects can be copied here in this article, [Shallow vs Deep Copying of Python Objects](https://realpython.com/copying-python-objects/)"
            ]
        }
    ],
    "metadata": {
        "kernelspec": {
            "display_name": "Python 3.10.7 64-bit",
            "language": "python",
            "name": "python3"
        },
        "language_info": {
            "codemirror_mode": {
                "name": "ipython",
                "version": 3
            },
            "file_extension": ".py",
            "mimetype": "text/x-python",
            "name": "python",
            "nbconvert_exporter": "python",
            "pygments_lexer": "ipython3",
            "version": "3.10.7"
        },
        "orig_nbformat": 4,
        "vscode": {
            "interpreter": {
                "hash": "369f2c481f4da34e4445cda3fffd2e751bd1c4d706f27375911949ba6bb62e1c"
            }
        }
    },
    "nbformat": 4,
    "nbformat_minor": 2
}
