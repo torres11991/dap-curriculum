{
    "cells": [
        {
            "cell_type": "markdown",
            "metadata": {},
            "source": [
                "# Data Analytics\n",
                "\n",
                "## Python NumPy, and Broadcasting\n",
                "\n",
                "We are going to learn about ...\n",
                "\n",
                "- What we learned so far\n",
                "- Concatenation\n",
                "- Sorting\n",
                "- Unpacking Array Tuples\n",
                "- Indexing and slicing\n",
                "- NumPy and Broadcasting\n",
                "- Arithmetic, Logic, Comparison, and statistical operations\n",
                "- Other NumPy Functions\n",
                "\n",
                "<br>\n",
                "\n",
                "---\n"
            ]
        },
        {
            "cell_type": "markdown",
            "metadata": {},
            "source": [
                "### What we learned so far ...\n",
                "\n",
                "**NumPy** (_Numerical Python_) is an open-source library for the Python programming language. It is used for scientific computing and working with arrays.\n",
                "\n",
                "About NumPy Arrays ...\n",
                "- Usually a fixed-size container of items of the same type and size\n",
                "- An array is the central data structure of the NumPy library\n",
                "- The elements are all the same, referred to as the array `dtype`\n",
                "- The number of `dimensions` and items in an array defines its `SHAPE`\n",
                "- The `shape` is a _**tuple** of non-negative integers_ that specify the dimentions, length and size of each array\n",
                "- The rank of the array is the number of its `dimensions`\n",
                "\n",
                "### Useful NumPy keywords\n",
                "\n",
                "- **Ndarray** == N-dimensional array\n",
                "- **1-D** == one dimensional array\n",
                "- **2-D** == two-dimensional array\n",
                "- **3-D** == three-dimensional array\n",
                "- **Vector** == an array with a single dimension\n",
                "- **Matrix** == an array with two dimensions\n",
                "- **Tensor** == an array with 3+ dimensions\n",
                "- **Dimensions** == the number of axes of an array\n",
                "\n",
                "<br>\n",
                "\n",
                "![NumPy 3D array creation](images/NumPy_Generic_3D_Creation.png)"
            ]
        },
        {
            "cell_type": "markdown",
            "metadata": {},
            "source": [
                "<br>\n",
                "\n",
                "---\n",
                "\n",
                "### Finding the shape and size of NumPy arrays ...\n",
                "\n",
                "- Find the number of dimensions of an array with -- `.ndim()`,\n",
                "- Find the shape (number of elements in each dimension) with -- `.shape()`,\n",
                "- Find the size (number of all elements) of the a NumPy array with -- `.size()`\n",
                "\n",
                "The built-in function `.len()` returns the size of the **_first dimension_**; not to be confused with the number of dimensions in the NumPy array."
            ]
        },
        {
            "cell_type": "code",
            "execution_count": null,
            "metadata": {},
            "outputs": [],
            "source": [
                "# Another Example: - Discovering the shape and size of a 3-D NumPy Array\n",
                "import numpy as np\n",
                "\n",
                "# this is a very stylized layout of an array\n",
                "# note the Tuple with a list of lists, with lists\n",
                "array_example = np.array(\n",
                "                            [  \n",
                "                                [ [0, 1, 2, 3, 4], [5, 6, 7, 8, 9] ],\n",
                "                                [ [0, 1, 2, 3, 4], [5, 6, 7, 8, 9] ],\n",
                "                                [ [0, 1, 2, 3, 4], [5, 6, 7, 8, 9] ],\n",
                "                                [ [0, 1, 2, 3, 4], [5, 6, 7, 8, 9] ],\n",
                "                                [ [0 ,1 ,2, 3, 4], [5, 6, 7, 8, 9] ] \n",
                "                            ]\n",
                "                        )\n",
                "\n",
                "# 3 dimensions/axes\n",
                "print(\"Array dimensions / axes ...\", array_example.ndim)\n",
                "\n",
                "# 50 total size/number of elements of array\n",
                "print(\"Array number of elements ...\", array_example.size)  \n",
                "\n",
                "# shape is the number of elements in each dimension = 5, 2, 5\n",
                "print(\"Array shape ...\", array_example.shape)\n",
                "\n",
                "print(\"\\narray_example ...\\n\", array_example)\n",
                "\n",
                "# .len() returns the size of the first dimension\n",
                "print(\"\\narray_example length ...\", len(array_example))"
            ]
        },
        {
            "cell_type": "code",
            "execution_count": null,
            "metadata": {},
            "outputs": [],
            "source": [
                "# Creating an array of 6 dimension using ndim\n",
                "# with a vector containing values [2,4,6,8,10]\n",
                "# and verifying the shape\n",
                "import numpy as np\n",
                "\n",
                "# creating an array of 6 dimension using ndim\n",
                "arrTest = np.array([2, 4, 6, 8, 10], ndmin=6)\n",
                "print(arrTest)\n",
                "\n",
                "# verifying the shape\n",
                "print('\\nshape of arrTest ...\\n', arrTest.shape)\n",
                "\n",
                "# .len() returns the size of the first dimension\n",
                "print(\"\\nlength of arrTest ...\", len(arrTest))"
            ]
        },
        {
            "cell_type": "markdown",
            "metadata": {},
            "source": [
                "#### **Reshaping NumPy Arrays**\n",
                "\n",
                "As the name suggests, reshape means 'changes in shape'. The `numpy.reshape()` function helps us to get a new shape to an array without changing its data.\n",
                "\n",
                "Sometimes, we need to reshape the data from wide to long. So in this situation, we have to reshape the array using `.reshape()` function.\n",
                "\n",
                "This function returns a ndarray. It is a new view object if possible; otherwise, it will be a copy. There is no guarantee of the memory layout of the returned array.\n",
                "\n",
                "        Syntax: -   numpy.reshape(arr, new_shape)\n"
            ]
        },
        {
            "cell_type": "code",
            "execution_count": null,
            "metadata": {},
            "outputs": [],
            "source": [
                "# reshaping a NumPy array\n",
                "aArray = np.array([[1,2,3], [4,5,6]])\n",
                "bArray = np.array([1, 2, 3, 4, 5, 6, 7, 8, 9, 10, 11, 12])\n",
                "print(\"aArray ...\\n\", aArray)\n",
                "\n",
                "newShape1 = np.reshape(aArray, 6)\n",
                "print(\"newShape1 ...\", newShape1)\n",
                "\n",
                "newShape2 = np.reshape(aArray, (3, 2))\n",
                "print(\"\\nnewShape2 ...\\n\", newShape2)\n",
                "\n",
                "newShape3 = bArray.reshape(3, 2, 2)\n",
                "print(\"\\nnewShape3 ...\\n\", newShape3)\n"
            ]
        },
        {
            "cell_type": "markdown",
            "metadata": {},
            "source": [
                "![NumPy Array Reshaping](images/NumPy_Array_Reshaping.png)"
            ]
        },
        {
            "cell_type": "markdown",
            "metadata": {},
            "source": [
                "#### Reshaping using an \"Unknown\" dimension / size\n",
                "\n",
                "The `numpy.array.reshape()` function can be called with an “unknown dimension”. This is possible by specifying `-1` as the unspecified dimension.\n",
                "\n",
                "In NumPy, -1 in `.reshape(3,-1)` refers to an unknown dimension that the `.reshape()` function calculates for you, based on the context of the array.\n",
                "\n",
                "A common use case is to flatten a nested array of an unknown number of elements to a 1D array."
            ]
        },
        {
            "cell_type": "code",
            "execution_count": null,
            "metadata": {},
            "outputs": [],
            "source": [
                "# reshaping using an \"Unknown\" dimension\n",
                "import numpy as np\n",
                "\n",
                "aArray = np.array([[1,2,3,4,5,6,7,8], [11,12,23,34,45,56,67,78]])\n",
                "print(\"newShape1 ...\\n\", aArray)\n",
                "\n",
                "newShape3 = aArray.reshape(4,-1)\n",
                "print(\"\\nnewShape3 ...\\n\", newShape3)"
            ]
        },
        {
            "cell_type": "markdown",
            "metadata": {},
            "source": [
                "#### NumPy methods to help reshape Arrays ...\n",
                "\n",
                "There are several functions to help reshaping / resizing NumPy arrays like ...\n",
                "\n",
                "- `np.vstack()` = used to stack arrays in sequence vertically (row wise) [NumPy: vstack() function](https://www.w3resource.com/numpy/manipulation/vstack.php)\n",
                "\n",
                "- `np.hstack()` = used to stack arrays in sequence horizontally (column wise) [NumPy: hstack() function](https://www.w3resource.com/numpy/manipulation/hstack.php)\n",
                "\n",
                "- `np.hsplit()` = used to split an array into multiple sub-arrays horizontally (column-wise) [NumPy: hsplit() function](https://www.w3resource.com/numpy/manipulation/hsplit.php)"
            ]
        },
        {
            "cell_type": "markdown",
            "metadata": {},
            "source": [
                "\n",
                "---\n",
                "\n",
                "### **NumPy Concatenation**\n",
                "\n",
                "Concatenation refers to joining. This function is used to join two or many more arrays _of the same shape_, along a specified axis. \n",
                "\n",
                "The `concatenation()` function takes the following parameters.\n",
                "\n",
                "        Syntax: -- numpy.concatenate((a1, a2, ...), axis)\n",
                "\n",
                "- **a1,a2, ...**   represents a sequence of arrays of the _same type_\n",
                "- **axis**    represents the axis along which arrays have to be joined. _Default is axis 0_"
            ]
        },
        {
            "cell_type": "code",
            "execution_count": null,
            "metadata": {},
            "outputs": [],
            "source": [
                "# NumPy concatenation\n",
                "import numpy as np\n",
                "\n",
                "arrayA= np.array([1, 2, 3, 4])\n",
                "arrayB = np.array([5, 6, 7, 8])\n",
                "\n",
                "arrCombo = np.concatenate((arrayA, arrayB))\n",
                "print(\"Print arrCombo ...\", arrCombo)\n",
                "\n",
                "\n",
                "# More Concatenation\n",
                "arrayX = np.array([[2, 1], [3, 4]])\n",
                "arrayY = np.array([[5, 6]])\n",
                "arrayZ = np.array([[8, 7], [9, 10], [12, 11]])\n",
                "\n",
                "arrayC = np.concatenate((arrayZ, arrayX, arrayY), axis=0)\n",
                "print(\"\\nAnd arrayC ...\\n\", arrayC)\n",
                "\n",
                "arrayCSsort = np.sort(arrayC)\n",
                "# print (\"\\narrayC sorted ...\\n\", arrayCSsort)\n",
                "\n",
                "newShape = arrayCSsort.reshape(2, 2, 3)\n",
                "# print (\"\\nNew shape ...\\n\", newShape)\n"
            ]
        },
        {
            "cell_type": "markdown",
            "metadata": {},
            "source": [
                "\n",
                "---\n",
                "\n",
                "### **Sorting NumPy arrays**\n",
                "\n",
                "The NumPy nd-array object has a function called `.sort()`, that will sort a specified array.\n",
                "\n",
                "Due to speed and memory management during sort, NumPy's `.sort()` functions are much more efficient and useful for data analytics than the build-in Python sort, and even the array module sort methods.\n",
                "\n",
                "**Note**: The NumPy `.sort()` method _returns a sorted **copy** of the array_, leaving the original array unchanged. So, to save the new sorted array, assign it to a variable.\n",
                "\n",
                "One can sort all sort of different NumPy arrays -- arrays of strings, or many other data types.\n",
                "\n",
                "Syntax: -\n",
                "\n",
                "    --  ndarray.sort(axis= -1, kind=None, order=None)\n",
                "\n",
                "To sort a 2D NumPy array by a row or column, in the sort function you can set the **axis** parameter to 0 or 1, respectively. The axis is used when working with multidimensional arrays. It takes an integer as an argument. If no argument is passed, it uses the default value which is -1.\n",
                "\n",
                "Sorting a 3D array is quite similar to sorting a 2D array. Here we have 3 axes: - 0, 1, 2.\n"
            ]
        },
        {
            "cell_type": "code",
            "execution_count": null,
            "metadata": {},
            "outputs": [],
            "source": [
                "# Sorting NumPy arrays ...\n",
                "import numpy as np\n",
                "\n",
                "# sorting a 1-D array\n",
                "arr1 = np.array([2, 1, 5, 3, 7, 4, 6, 8])\n",
                "arr1sort = np.sort(arr1)\n",
                "print(\"arr1 ...\", arr1sort)\n",
                "\n",
                "# Sorting a 2-D array:\n",
                "# on a 2-D array both tuples will be sorted\n",
                "arr2 = np.array([[3, 2, 4], [5, 0, 1]])\n",
                "print(\"arr2 ...\\n\", np.sort(arr2))\n",
                "\n",
                "# Sorting an array of strings alphabetically:\n",
                "arr3 = np.array(['banana', 'cherry', 'apple'])\n",
                "print(\"arr3 ...\", np.sort(arr3))\n",
                "\n",
                "# Sorting a boolean array:\n",
                "arr4 = np.array([True, False, True])\n",
                "print(\"arr4 ...\", np.sort(arr4))\n",
                "\n",
                "# sorting a 2D array\n",
                "arr5 = np.array([[101, 112, 133, 224],\n",
                "                [235, 76, 207, 148],\n",
                "                [319, 110, 338, 174]])\n",
                "print(\"\\narr5 ...\\n\", np.sort(arr5, axis= 1))\n",
                "\n",
                "# sorting a 3D array\n",
                "arr6 = np.array([[[10, 11, 13, 22], [23, 7, 20, 14], [31, 11, 33, 17]],\n",
                "                [[12, 11, 13, 23], [23, 7, 12, 14], [31, 34, 33, 17]],\n",
                "                [[10, 6, 13, 22], [34, 7, 20, 14], [31, 34, 33, 7]]])\n",
                "print(\"\\narr6 ...\\n\", np.sort(arr6, axis= 2))\n"
            ]
        },
        {
            "cell_type": "markdown",
            "metadata": {},
            "source": [
                "#### **`argsort()`**\n",
                "A related sort function is `argsort()`, which instead of sorting the array elements, returns another array with a list of the **INDEXES** of the sorted elements.\n",
                "\n",
                "The first element of this result gives the index of the smallest element, the second value gives the index of the second smallest, and so on. \n",
                "\n",
                "These indices can then be used (via fancy indexing) to construct the sorted data array if desired."
            ]
        },
        {
            "cell_type": "code",
            "execution_count": null,
            "metadata": {},
            "outputs": [],
            "source": [
                "# `argsort` returns the Index Numbers of elements in order\n",
                "import numpy as np\n",
                "\n",
                "xx = np.array([2, 1, 4, 3, 5])\n",
                "xx1sorted = np.argsort(xx)\n",
                "print(xx1sorted)\n"
            ]
        },
        {
            "cell_type": "markdown",
            "metadata": {},
            "source": [
                "#### **`lexsort()`**\n",
                "\n",
                "NumPy `.lexsort()` performs an indirect stable sort using a sequence of keys.\n",
                "\n",
                "        Syntax:-` numpy.lexsort(keys, axis= -1, , kind = None, order = None)`\n",
                "\n",
                "This function is used for sorting with multiple sort keys, involving more than one array. \n",
                "\n",
                "For example, we first sort data in Column A and then sort the values in column B. \n",
                "\n",
                "In the below example we take two arrays representing column A and column B. \n",
                "\n",
                "On applying the `lexsort()` for sorting first by column A and then by column B, we get the result returned as a list array containing the indices of the elements in column A (like argsort). \n",
                "\n",
                "This sort order is then applied to both data columns."
            ]
        },
        {
            "cell_type": "code",
            "execution_count": null,
            "metadata": {},
            "outputs": [],
            "source": [
                "# using NumPy `lexsort()`\n",
                "import numpy as np\n",
                "\n",
                "colA = [2,1,1,8,1] # First column\n",
                "colB = [9,0,3,2,0] # Second column\n",
                "# Sort by ColA and then by colB\n",
                "colC = [19,11,11,12,30] #  column\n",
                "\n",
                "sorted_index = np.lexsort((colB, colC, colA))\n",
                "print(sorted_index)\n",
                "\n",
                "#print the result showing the column values as pairs\n",
                "# listAB = [(colA[i],colB[i]) for i in sorted_index]\n",
                "# print(\"\\nCombined column values by index list ...\\n\", listAB)\n"
            ]
        },
        {
            "cell_type": "markdown",
            "metadata": {},
            "source": [
                "#### Other sort Methods\n",
                "\n",
                "Actually, NumPy provides a variety of functions for sorting and searching. There are various sorting algorithms like `quicksort`, `merge sort` and `heapsort` which are implemented using the `numpy.sort()` method, and by specifying the `kind` parameter.\n",
                "\n",
                "Then there are other sort methods like the `searchsorted()` method and the `partition()` methods. \n",
                "\n",
                "You can read about these in the NumPy documentation at ... [NumPy - Sorting, searching, and counting](https://numpy.org/doc/stable/reference/routines.sort.html)\n"
            ]
        },
        {
            "cell_type": "markdown",
            "metadata": {},
            "source": [
                "\n",
                "---\n",
                "\n",
                "### **Unpacking array Tuples**\n",
                "\n",
                "One can unpack array tuples and assign the elements to different variables.\n",
                "\n",
                "In Python, you can assign elements of a tuple or list to multiple variables. This is called **_sequence unpacking_**.\n",
                "\n",
                "If you write variables on the left side separated by commas , then elements of a tuple (or list) on the right side are assigned to each variable. \n",
                "\n",
                "The following examples use tuples, but the same is true for lists:"
            ]
        },
        {
            "cell_type": "code",
            "execution_count": null,
            "metadata": {},
            "outputs": [],
            "source": [
                "# Assigning variables using multi assignment\n",
                "tt = ([ [ [0, 1, 2, 3], [4, 5, 6, 7] ],\n",
                "        [ [10, 11, 12, 13], [14, 15, 16, 17] ],\n",
                "        [[20, 21, 22, 23], [24, 25, 26, 27] ] ])\n",
                "\n",
                "a, b, c = tt\n",
                "\n",
                "print(\"a = \", a)\n",
                "print(\"b = \", b)\n",
                "print(\"c = \", c)\n",
                "print(\"The data type of c ...\", type(c))\n",
                "\n",
                "# further unpack the \"a\" variable\n",
                "a0, a1 = a\n",
                "print(\"\\nFurther unpacking a ...\")\n",
                "print(\"a0 = \", a0)\n",
                "print(\"a1 = \", a1)\n",
                "print(\"The data type of a1 ...\", type(a1))\n"
            ]
        },
        {
            "cell_type": "markdown",
            "metadata": {},
            "source": [
                "#### **Unpack a nested tuple or list**\n",
                "\n",
                "You can also unpack nested tuples or lists. \n",
                "\n",
                "If you want to expand the inner elements, enclose the variables with `()` or `[]` to match the shape of the array."
            ]
        },
        {
            "cell_type": "code",
            "execution_count": null,
            "metadata": {},
            "outputs": [],
            "source": [
                "# Unpacking a series of nested elements\n",
                "example = ([ [ [0, 1, 2, 3], [14, 15, 16, 17] ],\n",
                "        [ [20, 21, 22, 23], [34, 35, 36, 37] ],\n",
                "        [[40 ,41 ,42, 43], [54, 55, 56, 57] ] ])\n",
                "\n",
                "[[[a,b,c,d], [e,f,g,h]],\n",
                "    [[i,j,k,l],[m,n,o,p]],\n",
                "    [[q,r,s,t],[u,v,w,x]]] = example\n",
                "\n",
                "print(\"1st group ...\", a, b, c, d)\n",
                "print(\"2nd group ...\", m, n, o, p)\n",
                "print(\"last bunch ...\", q, r, s, t, u, v, w, x)\n",
                "\n",
                "# else using the overflow astrix \n",
                "[[[aa,bb,cc,dd], [ee,ff,gg,hh]], *zz] = example\n",
                "\n",
                "print(\"\\nThe variables aa, bb, to hh ...\")\n",
                "print(aa,bb,cc,dd,ee,ff,gg, hh)\n",
                "\n",
                "print(\"\\nThe collective variable zz ...\")\n",
                "print(zz)\n"
            ]
        },
        {
            "cell_type": "markdown",
            "metadata": {},
            "source": [
                "\n",
                "---\n",
                "\n",
                "### **NumPy Array Indexing and Slicing**\n",
                "\n",
                "Item elements in the NumPy ndarray object follow zero-based indexing.\n",
                "\n",
                "Python NumPy array slicing is used to extract some portion of data from the actual array. Slicing in python means extracting data from one given index to another given index, however, NumPy slicing is slightly different.\n",
                "\n",
                "The syntax of Python NumPy slicing is [start : stop : step]\n",
                "\n",
                "Using indexing rules, three types of indexing methods are available − field access, basic slicing, and advanced indexing.\n",
                "\n",
                "Basic slicing is an extension of Python's basic concept of slicing to n dimensions\n",
                "\n",
                "\n"
            ]
        },
        {
            "cell_type": "code",
            "execution_count": null,
            "metadata": {},
            "outputs": [],
            "source": [
                "#   Indexing and Slicing Arrays ...\n",
                "import numpy as np \n",
                "\n",
                "# slice single item \n",
                "arr1 = np.arange(10) \n",
                "bee = arr1[5]\n",
                "print(\"\\nOriginal data arr1 ...\", arr1)\n",
                "print(\"bee is element at index 5 ...\", bee)\n",
                "\n",
                "# more slicing options\n",
                "data = np.array([1, 2, 3, 4, 5])\n",
                "aa2 = data[1]\n",
                "bb2 = data[2:4]\n",
                "cc2 = data[3:]\n",
                "dd2 = data[-2:]\n",
                "\n",
                "print(\"\\nThe data array ...\", data)\n",
                "print(\"aa2 element [1] ...\", aa2)\n",
                "print(\"bb2 slice 2:4 ...\", bb2)\n",
                "print(\"cc2 slice 3: ...\", cc2)\n",
                "print(\"dd2 slice -2: ...\", dd2)\n"
            ]
        },
        {
            "cell_type": "code",
            "execution_count": null,
            "metadata": {},
            "outputs": [],
            "source": [
                "\n",
                "# slicing a more complex array\n",
                "arr2 = np.array([[1,2,3],[3,4,5],[4,5,6]]) \n",
                "\n",
                "print(\"\\nThe arr2 array ...\", arr2)\n",
                "print(\"\\nSlicing the array from the index arr2[1:]\") \n",
                "print(arr2[1:])\n"
            ]
        },
        {
            "cell_type": "markdown",
            "metadata": {},
            "source": [
                "#### Slicing 2D and 3D arrays\n",
                "\n",
                "The process of slicing multi-dimensional arrays is more complex, as slicing can be done on multiple axis at the same time.\n",
                "\n",
                "When slicing a 2D array, use both axes to obtain a rectangular subset of the original array.\n",
                "\n",
                "Example:- You can use `arr[1:,1:3]` to select rows `1:` to the end of the bottom of the array, and columns `1:3` (columns 1 and 2).\n",
                "\n",
                "To extract elements of a 3D NumPy array using slice operation, there are 3 dimensions we should consider for specifying the tranche or cube we want to cut.\n",
                "\n",
                "Example:- You could specify `arr[:2, 1:, :2]` to select dimensions `:2` (the first 2 dimensions); rows `1:` (the last 2 rows); and columns `:2` (the first 2 columns).\n"
            ]
        },
        {
            "cell_type": "code",
            "execution_count": null,
            "metadata": {},
            "outputs": [],
            "source": [
                "# slicing 2D Array\n",
                "import numpy as np\n",
                "\n",
                "arr = np.array([[1, 2, 3, 4], \n",
                "                [5, 6, 7, 8]])\n",
                "\n",
                "# from the second list, slice elements from index 1 to 3 (not included)\n",
                "print(arr[1, 1:3])"
            ]
        },
        {
            "cell_type": "code",
            "execution_count": null,
            "metadata": {},
            "outputs": [],
            "source": [
                "# slicing a 3D array\n",
                "import numpy as np\n",
                "\n",
                "arr = np.array([[[21, 56, 12], [13, 46, 15], [16, 18, 18]],\n",
                "                [[20, 19, 22], [23, 29, 25], [26, 18, 28]],\n",
                "                [[30, 26, 32], [33, 6, 35], [36, 10, 38]]])\n",
                "\n",
                "print(arr[:2, 1:, :2])"
            ]
        },
        {
            "cell_type": "markdown",
            "metadata": {},
            "source": [
                "\n",
                "Here is an in-depth article on Slicing Multi-Dimensional NumPy Arrays ... [Indexing and slicing NumPy arrays](https://www.pythoninformer.com/python-libraries/numpy/index-and-slice/)"
            ]
        },
        {
            "cell_type": "markdown",
            "metadata": {},
            "source": [
                "\n",
                "---\n",
                "\n",
                "### **Broadcasting NumPy Arrays**\n",
                "\n",
                "The term broadcasting describes how NumPy treats arrays with different shapes during arithmetic operations.\n",
                "\n",
                "NumPy operations are usually done element-by-element which requires two arrays to have exactly the same shape. NumPy’s broadcasting rule relaxes this constraint when the arrays’ shapes meet certain requirements. \n",
                "\n",
                "Subject to certain constraints, the smaller array is “broadcast” across the larger array so that they have compatible shapes.\n",
                "\n",
                "To determine if two arrays are broadcast-compatible, align the entries of their shapes such that their **_trailing dimensions_** are aligned, and then check that each pair of aligned dimensions satisfy either of the following 2 conditions:\n",
                "\n",
                "- the aligned dimensions have the same size\n",
                "- one of the dimensions has a size of 1\n",
                "\n",
                "The two arrays are broadcast-compatible if either of these conditions are satisfied for each pair of aligned dimensions.\n",
                "\n",
                "> **The Broadcasting Rule: -** In order to broadcast, the size of the trailing axes for both arrays in an operation, must either be the same size, or one of them must be one.\n"
            ]
        },
        {
            "cell_type": "code",
            "execution_count": null,
            "metadata": {},
            "outputs": [],
            "source": [
                "# simplest broadcasting  - an array and a scalar value are combined\n",
                "from numpy import array\n",
                "\n",
                "a = array([1.0,2.0,3.0])\n",
                "b = 2.0     # size of 1\n",
                "\n",
                "print(a * b)\n"
            ]
        },
        {
            "cell_type": "code",
            "execution_count": null,
            "metadata": {},
            "outputs": [],
            "source": [
                "# add a 1-D array broadcast to a 2-D array\n",
                "from numpy import array\n",
                "\n",
                "arr2D = array([[ 0.0,  0.0,  0.0],\n",
                "            [10.0, 10.0, 10.0],\n",
                "            [20.0, 20.0, 20.0],\n",
                "            [30.0, 30.0, 30.0]])\n",
                "\n",
                "arr1D = array([1.0, 2.0, 3.0])\n",
                "\n",
                "print(arr2D + arr1D)\n"
            ]
        },
        {
            "cell_type": "markdown",
            "metadata": {},
            "source": [
                "Broadcasting provides a convenient way of taking the outer product (or any other outer operation) of two arrays. \n",
                "\n",
                "The following example shows an outer addition operation of two 1-D arrays\n"
            ]
        },
        {
            "cell_type": "code",
            "execution_count": null,
            "metadata": {},
            "outputs": [],
            "source": [
                "# transforming arrays for Broadcasting with`newaxis`\n",
                "from numpy import array, newaxis\n",
                "\n",
                "aa = array([0.0, 10.0, 20.0, 30.0])\n",
                "bb = array([1.0, 2.0, 3.0])\n",
                "\n",
                "print(\"The sum of aa and bb ...\\n\")\n",
                "print(aa[:,newaxis] + bb)\n"
            ]
        },
        {
            "cell_type": "markdown",
            "metadata": {},
            "source": [
                "> Here the `newaxis` index operator inserts a new axis into `aa`, making it a two-dimensional 4x1 array. Then `bb` is broadcast / streached over `aa`.\n",
                "\n",
                "This image illustrates the stretching of both arrays to produce the desired 4x3 output array.\n",
                "\n",
                "![NumPy Broadcasting Example](images/NumPy_Broadcasting.png)\n"
            ]
        },
        {
            "cell_type": "code",
            "execution_count": null,
            "metadata": {},
            "outputs": [],
            "source": [
                "## another example of Broadcasting arrays\n",
                "import numpy as np\n",
                "\n",
                "# a (3, 4)-shaped array\n",
                "x = np.array(\n",
                "        [[-0.0, -0.1, -0.2, -0.3], \n",
                "        [-0.4, -0.5, -0.6, -0.7], \n",
                "        [-0.8, -0.9, -1.0, -1.1]]\n",
                ")\n",
                "\n",
                "# a (4,)-shaped array\n",
                "y = np.array([1, 2, 3, 4])\n",
                "\n",
                "# multiplying a shape-(4,) array --> y\n",
                "# with a shape-(3, 4) array --> x\n",
                "# `y` is multiplied by each row of `x`\n",
                "\n",
                "print(\"arrays x * y ...\\n\", x * y)\n"
            ]
        },
        {
            "cell_type": "markdown",
            "metadata": {},
            "source": [
                "> NOTE: Not all mathematical operations always work for all array broadcasting. Of not subtraction `(-)` could often be tricky. Refer to the NumPy Arithmetic Functions below for more use options ."
            ]
        },
        {
            "cell_type": "markdown",
            "metadata": {},
            "source": [
                "\n",
                "---\n",
                "\n",
                "### NumPy - Arithmetic Operations\n",
                "\n",
                "Arrays for performing arithmetic operations, such as `add()`, `subtract()`, `multiply()`, and `divide()`, must be either of the same shape, or should conform to the array broadcasting rules.\n",
                "- the trailing dimensions have the same size\n",
                "- one of the trailing dimensions has a size of 1\n",
                "\n",
                "Read full details on NumPy Mathematical operations in this article --[NumPy Arithmetic Operations and Functions](https://data-flair.training/blogs/numpy-arithmetic-operations/) \n",
                "\n",
                "\n"
            ]
        },
        {
            "cell_type": "code",
            "execution_count": null,
            "metadata": {},
            "outputs": [],
            "source": [
                "# basic array Arithmetic operations \n",
                "import numpy as np\n",
                "\n",
                "# Initializing the arrays\n",
                "arr = np.arange(12, dtype = np.float_).reshape(3, 4) \n",
                "arr1 = np.array([6, 12, 15, 18]) \n",
                "print(\"arr ...\\n\", arr)\n",
                "print(\"\\narr1 ...\\n\", arr1)\n",
                "\n",
                "# Example 1: Adding the two arrays\n",
                "arr2 = np.add(arr, arr1)\n",
                "print(\"\\nAddition ...\\n\", arr2)\n",
                "\n",
                "# Example 2: Subtracting the two arrays\n",
                "arr2 = np.subtract(arr, arr1)\n",
                "print(\"\\nSubtraction ...\\n\", arr2)\n",
                "\n",
                "# Example 3: Multiplying the two arrays\n",
                "arr2 = np.multiply(arr, arr1)\n",
                "print(\"\\nMultiplication ...\\n\", arr2)\n",
                "\n",
                "# Example 4: Dividing the two arrays\n",
                "arr2 = np.divide(arr, arr1)\n",
                "print(\"\\nDivision ...\\n\", arr2)\n",
                "\n",
                "# Example 5: Use numpy.power() \n",
                "# to calculating exponents of an array of numbers\n",
                "arr = np.array([5, 3, 6, 9, 2, 4]) \n",
                "arr2 = np.power(arr,3)\n",
                "print(\"\\nPower 3 ...\\n\", arr2)\n",
                "\n",
                "# Example 6: Use numpy.power() with two arrays\n",
                "arr = [2, 4, 6, 5, 3]\n",
                "arr1 = [2, 3, 5, 4, 1]\n",
                "arr2 = np.power(arr,arr1)\n",
                "print(\"\\nPower of arrays ...\\n\", arr2)\n",
                "\n",
                "# Example 7: Use numpy.reciprocal() function\n",
                "arr = np.array([50, 1.34, 3, 1, 25]) \n",
                "arr2 = np.reciprocal(arr)\n",
                "print(\"\\nReciprocal1 ...\\n\", arr2)\n",
                "\n",
                "# Example 8: Use reciprocal function\n",
                "arr = np.array([75], dtype = int) \n",
                "arr2 = np.reciprocal(arr) \n",
                "print(\"\\nReciprocal2 ...\\n\", arr2)\n",
                "\n",
                "# Example 9: Use numpy.mod() function\n",
                "arr = np.array([7,16, 25]) \n",
                "arr1 = np.array([4,8,6]) \n",
                "arr2 = np.mod(arr,arr1) \n",
                "print(\"\\nMod function ...\\n\", arr2)\n",
                "\n",
                "# Example 10: Use numpy.remainder() function\n",
                "arr = np.array([7,16, 25]) \n",
                "arr1 = np.array([4,8,6]) \n",
                "arr2 = np.remainder(arr,arr1) \n",
                "print(\"\\nRemainder ...\\n\", arr2)\n"
            ]
        },
        {
            "cell_type": "markdown",
            "metadata": {},
            "source": [
                "\n",
                "---\n",
                "\n",
                "### NumPy Comparison Operators\n",
                "\n",
                "The NumPy comparison operators and functions are used to compare array items, and returns Boolean True or false results. \n",
                "\n",
                "The NumPy **_comparison functions_** are greater, greater_equal, less, less_equal, equal, and not_equal. \n",
                "\n",
                "Like with any other such operations, the NumPy **_comparison operators_** are <, <=, >, >=, == and !=\n",
                "\n",
                "Learn more about NumPy Comparisons read this article -- [Python NumPy Comparison Operations](https://www.tutorialgateway.org/python-numpy-comparison-operators/)\n"
            ]
        },
        {
            "cell_type": "code",
            "execution_count": null,
            "metadata": {},
            "outputs": [],
            "source": [
                "# comparison operations\n",
                "import numpy as np\n",
                "\n",
                "data2 = np.array([[1, 2, 3, 4], [5, 6, 7, 8], [9, 10, 11, 12]])\n",
                "print(\"\\ndata2 original array ...\", data2)\n",
                "# find all elements < 5\n",
                "print(\"data2 elements < 5 ...\", data2[data2 < 5])\n",
                "\n",
                "# find all elements >= 5\n",
                "five_up = data2 >= 5\n",
                "print(\"data2 elements >= 5 ...\", data2[five_up])\n",
                "\n",
                "# using modulo, find all elements divisible by 2\n",
                "divisible_by_2 = data2[data2 % 2 == 0]\n",
                "print(\"data2 elements divisible_by_2 ...\", divisible_by_2)\n"
            ]
        },
        {
            "cell_type": "markdown",
            "metadata": {},
            "source": [
                "\n",
                "---\n",
                "\n",
                "#### NumPy Logic functions routines\n",
                "\n",
                "Logical operations are used to find the logical relation between two arrays or lists or variables. We can perform logical operations on NumPy array to explore data relationships.\n",
                "\n",
                "You can explore NumPy Logic function routines in this article -- [NumPy: Logic functions routines](https://www.w3resource.com/numpy/logic-functions/index.php)\n",
                "\n"
            ]
        },
        {
            "cell_type": "markdown",
            "metadata": {},
            "source": [
                "\n",
                "---\n",
                "\n",
                "### NumPy Aggregate or Statistical functions\n",
                "\n",
                "Python NumPy library has many aggregate or statistical functions for doing different types of tasks with one-dimensional or multi-dimensional arrays. \n",
                "\n",
                "Some of the useful aggregate functions are `mean()`, `min()`, `max()`, `average()`, `sum()`, `median()`, `percentile()`, etc.\n",
                "\n",
                "Information on NumPy statistical functions and operations can be found in this article -- [Python numpy Aggregate Functions](https://www.tutorialgateway.org/python-numpy-aggregate-functions/)\n",
                "\n"
            ]
        },
        {
            "cell_type": "markdown",
            "metadata": {},
            "source": [
                "\n",
                "---\n",
                "\n",
                "### **Other NumPy Information**\n",
                "\n",
                "It is very strongly recommended that, at some time, you work through the following tutorial at https://numpy.org/ as it will give you a different perspective on the materials we covered -- [NumPy: the absolute basics for beginners](https://numpy.org/doc/stable/user/absolute_beginners.html)\n",
                "\n",
                "Here are some other interesting NumPy methods to look at: -\n",
                "\n",
                "- To be able to import and save different data files in NumPy, please review -- [Reading and writing files](https://numpy.org/devdocs/user/how-to-io.html)\n",
                "\n",
                "- `np.nonzero()` = used to count the number of nonzero elements present in array [NumPy Count Nonzero Values in Python arrays](https://sparkbyexamples.com/numpy/numpy-count-nonzero-values-in-python/)\n",
                "\n",
                "- `np.view()` = create new array object that looks at the same data as the original array [What is the array.view() method from NumPy in Python?](https://www.educative.io/answers/what-is-the-arrayview-method-from-numpy-in-python)\n"
            ]
        },
        {
            "cell_type": "markdown",
            "metadata": {},
            "source": [
                "\n",
                " ---\n",
                "\n",
                " ### Closing note ...\n",
                "\n",
                "NumPy is huge, and it's application is wide.\n",
                "\n",
                "NumPy is fundamental for working with data, and we'll be using it as we learn about Matplotlib and Pandas.\n",
                "\n",
                "Never be afraid to Google for more info, or to find an answer for something. Only thing to remember is to compare a few resources before moving with any one answer.\n",
                "\n",
                "It is through working with data, and continually exploring new options, that we will grow in our understanding of the uses of NumPy.\n",
                "\n",
                "Here is a website that claims to offer [101 NumPy Exercises for Data Analysis (Python)](https://www.machinelearningplus.com/python/101-numpy-exercises-python/)\n"
            ]
        }
    ],
    "metadata": {
        "kernelspec": {
            "display_name": "Python 3.10.7 64-bit",
            "language": "python",
            "name": "python3"
        },
        "language_info": {
            "codemirror_mode": {
                "name": "ipython",
                "version": 3
            },
            "file_extension": ".py",
            "mimetype": "text/x-python",
            "name": "python",
            "nbconvert_exporter": "python",
            "pygments_lexer": "ipython3",
            "version": "3.10.7"
        },
        "orig_nbformat": 4,
        "vscode": {
            "interpreter": {
                "hash": "369f2c481f4da34e4445cda3fffd2e751bd1c4d706f27375911949ba6bb62e1c"
            }
        }
    },
    "nbformat": 4,
    "nbformat_minor": 2
}
