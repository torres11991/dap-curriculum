{
 "cells": [
  {
   "cell_type": "markdown",
   "metadata": {},
   "source": [
    "# Data Analytics\n",
    "\n",
    "## Python Modules / Libraries, Exceptions, and Functions\n",
    "\n",
    "We are going to learn about ...\n",
    "\n",
    "- Python Modules and Libraries\n",
    "    - the DateTime module\n",
    "    - the Math module\n",
    "    - the Random module\n",
    "- Python Exception Handling\n",
    "- Python Functions\n",
    "    - Function arguments\n",
    "    - Default arguments\n",
    "    - The return statement\n",
    "    - scope of variables\n",
    "\n",
    "<br>\n",
    "\n",
    "---\n",
    "\n",
    "<br>\n",
    "\n",
    "## What are Python modules and libraries?\n",
    "\n",
    "Like in most programming environments, we do not need to, or want to constantly reinvent the wheel! \n",
    "\n",
    "We'll use the pre-written code chunks of those who've gone before us to more efficiently write our own programs -- reducing having to rewrite a lot of code from scratch.\n",
    "\n",
    "Real-world programs  and applications are complex. Even a simple game like a dice roll simulator would require lots of code if you programmed everything from scratch. \n",
    "\n",
    "To simplify the process and make it more effective, developers leverage _modular programming_ – a method of breaking large coding tasks into smaller, more manageable subtasks or bytes. (LOL, programmer humor  😄 )\n",
    "\n",
    "This is why Python has so many modules, packages, libraries, and frameworks that we can use to help us.\n"
   ]
  },
  {
   "cell_type": "markdown",
   "metadata": {},
   "source": [
    "\n",
    "### The Difference Between Modules, Packages, Libraries, and Frameworks\n",
    "\n",
    "#### Python **Modules**\n",
    "\n",
    "If you want your code to be well organized, it’s a good idea to start by grouping related code. A module is basically a bunch of related code saved in a file with the extension \"`.py`\".\n",
    "\n",
    "There are many different modules like ...\n",
    "\n",
    "- **<span style='background:yellow'><span style='color:Darkblue'>random module</span></span>** -- to generate pseudo-random number generators for various distributions\n",
    "- **html module** --  to parse HTML pages\n",
    "- **<span style='background:yellow'><span style='color:Darkblue'>datetime module</span></span>** -- to manipulate date and time data\n",
    "- **re module** --  to detect and parse regular expressions in Python\n",
    "\n",
    "#### Python **Packages**\n",
    "\n",
    "When developing a large application, you may end up with many different modules. You'll benefit from grouping and organizing your modules into packages.\n",
    "\n",
    "To be considered a package (or subpackage), a directory must contain a file named \"`__init__.py`\". This file usually includes the initialization code for the corresponding package.\n",
    "\n",
    "There are a lot of built-in and open-source Python packages. For example:\n",
    "\n",
    "- **<span style='background:yellow'><span style='color:Darkblue'>NumPy</span></span>** --  is the fundamental Python package for scientific computing\n",
    "- **<span style='background:yellow'><span style='color:Darkblue'>Pandas</span></span>** -- is a Python package for fast and efficient processing of tabular data, time series, matrix data, etc.\n",
    "- **pytest** --  provides a variety of modules to test new code, including small unit tests or complex functional tests\n",
    "\n",
    "#### Python **Libraries**\n",
    "\n",
    "A library is an umbrella term referring to a reusable chunk of code. Usually, a Python library contains a collection of related modules and packages. \n",
    "\n",
    "Actually, this term is often used interchangeably with “Python package” because packages can also contain modules and other packages (subpackages). \n",
    "\n",
    "However, _it is often assumed that while a package is a collection of modules, a library is a collection of packages_.\n",
    "\n",
    "There are OVER 137,000 Python Libraries, and growing! Some of the libraries are ...\n",
    "\n",
    "- **<span style='background:yellow'><span style='color:Darkblue'>Matplotlib</span></span>** -- is a standard library for generating data visualizations in Python. It supports building basic two-dimensional graphs as well as more complex animated and interactive visualizations\n",
    "- **PyTorch** -  is an open-source deep-learning library built by Facebook’s AI Research lab to implement advanced neural networks and cutting-edge research ideas in industry and academia\n",
    "- **pygame** -- provides developers with tons of convenient features and tools to make game development a more intuitive task\n",
    "- **Beautiful Soup** -- is a very popular Python library for getting data from the web. The modules and packages inside this library help extract useful information from HTML and XML files. The definitive library for web-scrapping\n",
    "- **Requests** --  is a part of a large collection of libraries designed to make Python HTTP requests simpler. The library offers an intuitive JSON method that helps you avoid manually adding query strings to your URLs.\n",
    "- **missingno** -- is very handy for handling missing data points. It provides informative visualizations about the missing values in a dataframe, helping data scientists to spot areas with missing data. (It's just one of many great libraries for data cleaning)\n",
    "\n",
    "#### Python **Frameworks**\n",
    "\n",
    "Similar to libraries, Python frameworks are a collection of modules and packages that help programmers to fast track the development process. \n",
    "\n",
    "However, frameworks are usually more complex than libraries. Also, while libraries contain packages that perform specific operations, frameworks contain the basic flow and architecture of the application.\n",
    "\n",
    "If you compare application development to building a house, Python frameworks provide all the essential building blocks like the foundation, walls, windows, roof, plumbing and electricity. \n",
    "\n",
    "Then developers build their application around this framework by adding functionalities comparable to interior design, an alarm system, furniture, appliances, etc.\n",
    "\n",
    "Some popular application development **Frameworks** are ...\n",
    "\n",
    "- **Django** --  a framework for building web applications with all the necessary features included by default\n",
    "- **Flask** -- a web development framework that is known for its lightweight and modular design. It has many out-of-the-box features and is easily adaptable to specific requirements\n",
    "- **Bottle** -- is another lightweight framework for web development that was originally meant for building APIs. Its unique features are that it has no dependencies other than the Python Standard Library and it implements everything in a single source file\n",
    "\n",
    "<br>"
   ]
  },
  {
   "cell_type": "markdown",
   "metadata": {},
   "source": [
    "\n",
    "### How to use Modules and Libraries:\n",
    "\n",
    "If we want to use code from a module or a library in our applications, we first need to import the respective module into our code-base. by using the import statement. \n",
    "\n",
    "It’s common to have many different items defined within the same module. So, you may want to import only one specific function rather than the entire module. \n",
    "\n",
    "Then, we’ll be ready to use a function defined in this imported module by calling that function with the \"`module.function()`\" syntax. E.G: -\n",
    "\n",
    "```Python\n",
    "    # Anytime you use a module, you have to IMPORT it into your program\n",
    "    import welcome\n",
    "\n",
    "    # to import a specific function from a module \n",
    "    from welcome import welcome_message\n",
    "\n",
    "```\n",
    "\n",
    "Read more about [Modules, Packages, Libraries, and Frameworks](https://learnpython.com/blog/python-modules-packages-libraries-frameworks/) in this article.\n"
   ]
  },
  {
   "cell_type": "markdown",
   "metadata": {},
   "source": [
    "\n",
    "#### Python Libraries we’ll use include ...\n",
    "\n",
    "DateTime, Math, Random, Pandas, NumPy, Matplotlib, and possibly BeautifulSoup.\n",
    "\n",
    "<br>\n",
    "\n",
    "---\n",
    "\n",
    "<br>\n",
    "\n",
    "#### DateTime\n",
    "\n",
    "The datetime module supplies classes for manipulating dates and times. We import the module datetime to work with dates and date objects. \n",
    "\n",
    "DateTime is Not a data type of its own.\n"
   ]
  },
  {
   "cell_type": "code",
   "execution_count": null,
   "metadata": {},
   "outputs": [],
   "source": [
    "# using Date Time\n",
    "import datetime as dt\n",
    "\n",
    "# Get Current Date and Time\n",
    "a = dt.datetime.now()\n",
    "print(\"Current Date and Time ...\", a)\n"
   ]
  },
  {
   "cell_type": "code",
   "execution_count": null,
   "metadata": {},
   "outputs": [],
   "source": [
    "# Get just the Date\n",
    "b = dt.date.today()\n",
    "print(\"Just the Date ...\", b)\n"
   ]
  },
  {
   "cell_type": "code",
   "execution_count": null,
   "metadata": {},
   "outputs": [],
   "source": [
    "# Create a date object to represent a specific date\n",
    "c = dt.datetime(2020, 5, 17) \n",
    "\n",
    "print(\"Presenting a specific date ...\", c)"
   ]
  },
  {
   "cell_type": "code",
   "execution_count": null,
   "metadata": {},
   "outputs": [],
   "source": [
    "# Find parts of the date string\n",
    "from datetime import date\n",
    "today = date.today()\n",
    "\n",
    "# Print today's year, month and day\n",
    "print(\"Current year:\", today.year)\n",
    "print(\"Current month:\", today.month)\n",
    "print(\"Current day:\", today.day)"
   ]
  },
  {
   "cell_type": "markdown",
   "metadata": {},
   "source": [
    "**The \"`strftime()`\" method**\n",
    "\n",
    "The \"`String Formated Time`\" -- `strftime()` -- method takes one or more format codes as an argument and returns a formatted string based on it.\n",
    "\n",
    "Below are some of the codes you can pass to the `strftime()` method.\n"
   ]
  },
  {
   "cell_type": "markdown",
   "metadata": {},
   "source": [
    "| Directive | Meaning | Example |\n",
    "|----|----|----|\n",
    "| %a | Abbreviated weekday name | Sun, Mon, ... |\n",
    "| %A | Full weekday name | Sunday, Monday, ... |\n",
    "| %w | Weekday as a decimal number | 0, 1, ..., 6 |\n",
    "| %-d | Day of the month as a decimal number | 1, 2, ..., 30 |\n",
    "| %b | Abbreviated month name | Jan, Feb, ..., Dec |\n",
    "| %B | Full month name | January, February, ... |\n",
    "| %-m | Month as a decimal number | 1, 2, ..., 12 |\n",
    "| %y | Year without century as a zero-padded decimal number | 00, 01, ..., 99 |\n",
    "| %Y | Year with century as a decimal number | 2013, 2019 etc. |\n",
    "| %H | Hour (24-hour clock) as a zero-padded decimal number | 00, 01, ..., 23 |\n",
    "| %I | Hour (12-hour clock) as a zero-padded decimal number | 01, 02, ..., 12 |\n",
    "| %p | Locale’s AM or PM | AM, PM |\n",
    "| %M | Minute as a zero-padded decimal number | 00, 01, ..., 59 |\n",
    "| %S | Second as a zero-padded decimal number | 00, 01, ..., 59 |\n",
    "| %j | Day of the year as a zero-padded decimal number | 001, 002, ..., 366 |\n",
    "| %U | Week number of the year (Sunday as the first day of the week) | 00, 01, ..., 53 |\n",
    "| %W | Week number of the year (Monday as the first day of the week) | 00, 01, ..., 53 |\n"
   ]
  },
  {
   "cell_type": "code",
   "execution_count": null,
   "metadata": {},
   "outputs": [],
   "source": [
    "# \"strftime()\" EXAMPLES\n",
    "import datetime\n",
    "example = datetime.datetime.now()\n",
    "\n",
    "print(\"Day ... \", example.strftime(\"%A\"))\n",
    "print(\"Month ...\", example.strftime(\"%B\"))\n",
    "print(\"Year ...\", example.strftime(\"%Y\"))\n",
    "print(\"24 Hour time ...\", example.strftime(\"%H\"))\n",
    "print(\"Minutes ...\", example.strftime(\"%M\"))"
   ]
  },
  {
   "cell_type": "markdown",
   "metadata": {},
   "source": [
    "Read all about Python `datetime` here at this link --- [Python datetime — Basic date and time types](https://docs.python.org/3/library/datetime.html)"
   ]
  },
  {
   "cell_type": "markdown",
   "metadata": {},
   "source": [
    "\n",
    "---\n",
    "\n",
    "<br>\n",
    "\n",
    "#### Python Math Module\n",
    "\n",
    "Python has a built-in module that you can use for mathematical tasks.\n",
    "\n",
    "The Math module has a set of methods and constants. Here are some examples of what the Math module offers:\n",
    "\n",
    "| Math Method | Description |\n",
    "|----|----|\n",
    "| | | \n",
    "| math.ceil() | Rounds a number up to the nearest integer |\n",
    "| math.fabs() | Returns the absolute value of a number |\n",
    "| math.factorial() | Returns the factorial of a number |\n",
    "| math.fsum() | Returns the sum of all items in any iterable (tuples, arrays, lists, etc.) |\n",
    "| math.sqrt() | Returns the square root of a number |\n",
    "| | |\n",
    "| **Math Constant** | **Description** |\n",
    "| | |\n",
    "| math.pi | Returns PI (3.1415...) |\n",
    "\n",
    "<br>"
   ]
  },
  {
   "cell_type": "code",
   "execution_count": null,
   "metadata": {},
   "outputs": [],
   "source": [
    "# Import math library\n",
    "import math\n",
    "\n",
    "# Round a number upward to its nearest integer\n",
    "print(\"Round up ... \", math.ceil(1.4))\n",
    "\n",
    "#Print absolute values from numbers\n",
    "print(\"Absolute value ...\", math.fabs(-66.43))\n",
    "\n",
    "#Return factorial of a number\n",
    "print(\"Factorial ...\", math.factorial(12))      # interesting fact -- max factorial 170\n",
    "\n",
    "# Print the sum of all items\n",
    "print(\"Sum ...\", math.fsum([1.7, 0.3, 1.5, 4.5]))\n",
    "\n",
    "# Return the square root of different numbers\n",
    "print(\"Square root ...\", math.sqrt(225))\n",
    "print(\"Square ...\", 15.0**2)\n",
    "\n",
    "# Print the value of pi\n",
    "print (\"Print PI ...\", math.pi)\n"
   ]
  },
  {
   "cell_type": "markdown",
   "metadata": {},
   "source": [
    "Read all about the Python math module here at this link -- [Python math — Mathematical functions](https://docs.python.org/3/library/math.html)"
   ]
  },
  {
   "cell_type": "markdown",
   "metadata": {},
   "source": [
    "---\n",
    "\n",
    "<br>\n",
    "\n",
    "#### Python Random Module\n",
    "\n",
    "Python has a built-in module that you can use to make random numbers.\n",
    "\n",
    "The random module has an wide set of methods. Here are some of them:\n",
    "\n",
    "| Method | Description |\n",
    "|----|----|\n",
    "| randrange() | Returns a random number between the given range |\n",
    "| choice() | Returns a random element from the given sequence |\n",
    "| shuffle() | Takes a sequence and returns the sequence in a random order |\n",
    "| random() | Returns a random float number between 0 and 1 |\n"
   ]
  },
  {
   "cell_type": "code",
   "execution_count": null,
   "metadata": {},
   "outputs": [],
   "source": [
    "# using random methods\n",
    "import random\n",
    "\n",
    "# Return a number between 1 and 10:\n",
    "diceThrow=random.randrange(1,21)\n",
    "print(\"Dice throw ...\", diceThrow)\n",
    "\n",
    "# Return random number between 0.0 and 1.0:\n",
    "prob = random.random()\n",
    "print(\"Probability ...\", prob)\n",
    "\n",
    "# Shuffle a list (reorganize the order of the list items):\n",
    "orderedList = [\"apple\", \"banana\", \"cherry\"]\n",
    "random.shuffle(orderedList)\n",
    "print(\"Shuffled List ...\", orderedList)\n",
    "\n",
    "# Return a random element from a list:\n",
    "myList = [\"apple\", \"banana\", \"cherry\"]\n",
    "print(\"Random element ...\", random.choice(myList))\n"
   ]
  },
  {
   "cell_type": "markdown",
   "metadata": {},
   "source": [
    "Read all about the Python random  module here at this link -- [Python random — Generate pseudo-random numbers](https://docs.python.org/3/library/random.html)"
   ]
  },
  {
   "cell_type": "markdown",
   "metadata": {},
   "source": [
    "\n",
    "---\n",
    "\n",
    "<br>\n",
    "\n",
    "## Python Exception Handling\n",
    "\n",
    "Python will normally stop and generate an error message when something goes wrong.\n",
    "\n",
    "Python generates a message called an exception, when an error or exception occurs in a called block of code.\n",
    "\n",
    "**These exceptions can be gracefully handled using the Try Except statement -**\n",
    "\n",
    "- The `try` block lets you test a block of code for errors.\n",
    "\n",
    "- The `except` block lets you handle the error.\n",
    "\n",
    "- The `else` block lets you execute code when there is no error.\n",
    "\n",
    "- The `finally` block lets you execute code, regardless of the result of the try- and except blocks.\n",
    "\n",
    "So when and error is raised in the try block, the except block will be executed. Without the try block, the program will crash. With this code device we can keep going past many errors.\n"
   ]
  },
  {
   "cell_type": "code",
   "execution_count": null,
   "metadata": {},
   "outputs": [],
   "source": [
    "# basic try and exception\n",
    "# here is an error\n",
    "# print(x)\n",
    "\n",
    "# This will cause an error as x is not defined\n",
    "try:\n",
    "    print(x)\n",
    "except:\n",
    "    print(\"An exception occurred\")\n"
   ]
  },
  {
   "cell_type": "code",
   "execution_count": null,
   "metadata": {},
   "outputs": [],
   "source": [
    "# One can use multiple except blocks\n",
    "# Print one message if the try block raises a NameError and another for other errors:\n",
    "try:\n",
    "    print(x)\n",
    "except NameError:\n",
    "    print(\"Variable x is not defined\")\n",
    "except:\n",
    "    print(\"Something else went wrong\")\n"
   ]
  },
  {
   "cell_type": "code",
   "execution_count": null,
   "metadata": {},
   "outputs": [],
   "source": [
    "# You can use the ELSE keyword to define a block of code to be executed if no errors were raised:\n",
    "try: \n",
    "    print(\"Hello\")\n",
    "except:\n",
    "    print(\"Something went wrong\")\n",
    "else:\n",
    "    print(\"Nothing went wrong\")\n"
   ]
  },
  {
   "cell_type": "code",
   "execution_count": null,
   "metadata": {},
   "outputs": [],
   "source": [
    "# The FINALLY block, if specified, will be executed regardless if the try block raises an error or not.\n",
    "try:\n",
    "    print(x)\n",
    "except:\n",
    "    print(\"Something went wrong\")\n",
    "finally:\n",
    "    print(\"The 'try except' is finished\")\n"
   ]
  },
  {
   "cell_type": "markdown",
   "metadata": {},
   "source": [
    "\n",
    "Read more about Python Exception handing in this excellent FreeCodeCamp.com article: -\n",
    "\n",
    "[Python Try and Except Statements – How to Handle Exceptions in Python](https://www.freecodecamp.org/news/python-try-and-except-statements-how-to-handle-exceptions-in-python/)\n",
    "\n",
    "<br>"
   ]
  },
  {
   "cell_type": "markdown",
   "metadata": {},
   "source": [
    "\n",
    "---\n",
    "\n",
    "<br>\n",
    "\n",
    "## Python Functions\n",
    "\n",
    "A function is a block of code which only runs when it is called.\n",
    "\n",
    "Syntax: -\n",
    "\n",
    "```python\n",
    "    def my_message(): \n",
    "        (command block follows here)\n",
    "        (a command block can have several lines)\n",
    "\n",
    "```\n",
    "\n",
    "- A functions is defined by using the `def` keyword, and then the function name followed by parenthesis / round brackets `()`\n",
    "- The code block within every function starts with a colon (:) and is indented\n",
    "- You can pass data, known as parameters, into a function, inside the parenthesis\n",
    "- A function can return data as a result.\n",
    "- The statement \"`return [expression]`\" exits a function, and optionally passing back an expression to the caller. \n",
    "- A `return` statement with no arguments is the same as return None\n",
    "- Once the function is defined, it can be executed  by calling it from another function or directly from the Python prompt.\n",
    "\n",
    "To call a function, use the function name followed by parenthesis `()`:\n",
    "\n",
    "```python\n",
    "    \n",
    "    def my_message():\n",
    "        print(“I am enjoying class”)\n",
    "\n",
    "    my_message()\n",
    "```\n",
    "\n",
    "### **Function Arguments**\n",
    "\n",
    "Information can be passed into functions as arguments; to be used as inputs for the function code\n",
    "\n",
    "Arguments are specified after the function name, inside the parentheses. You can add as many arguments as you want/need, just separate them with commas.\n",
    "\n",
    "> Note:- From a function's perspective: Parameters are the variables listed inside the parentheses in the function definition; and arguments are the values that are sent to the function when it is called.\n",
    "\n",
    "The following example has a function with one argument (fname). When the function is called, we pass along a first name, which is used inside the function to print the full name:\n"
   ]
  },
  {
   "cell_type": "code",
   "execution_count": null,
   "metadata": {},
   "outputs": [],
   "source": [
    "# Example of a function call\n",
    "def familyName(fname):\n",
    "    print(fname + \" Smith\")\n",
    "\n",
    "familyName(\"Jerry\")\n",
    "familyName(\"Amy\")\n",
    "familyName(\"Chad\")\n"
   ]
  },
  {
   "cell_type": "markdown",
   "metadata": {},
   "source": [
    "#### **Default arguments**\n",
    "\n",
    "A default argument is is used if a value is not provided in the function call for that argument. A parameter with and assignment is specified to setup a default argument.\n",
    "\n",
    "The following example gives an idea on default arguments, it prints default age if it is not passed −\n",
    "\n"
   ]
  },
  {
   "cell_type": "code",
   "execution_count": null,
   "metadata": {},
   "outputs": [],
   "source": [
    "# Function definition is here\n",
    "def printInfo( name, age = 35 ): \n",
    "    # \"This code below prints all info passed into this function\"\n",
    "    print(\"Name: \", name)\n",
    "    print(\"Age \", age)\n",
    "\n",
    "# call the printInfo function with parameters in order\n",
    "printInfo(\"Johnny\", 12)\n",
    "\n",
    "# When using Keyword Arguments - order of parameters is not important\n",
    "printInfo(age=50, name=\"Mimi\")\n",
    "printInfo(name=\"Mike\")\n"
   ]
  },
  {
   "cell_type": "markdown",
   "metadata": {},
   "source": [
    "#### **The return Statement**\n",
    "\n",
    "The statement `return [expression]` exits a function, optionally passing back an expression to the caller. \n",
    "\n",
    "A return statement with no arguments is the same as return None.\n",
    "\n",
    "None of the above examples are returning any value -- no `return` statement. \n",
    "\n",
    "You can return a value from a function as follows −"
   ]
  },
  {
   "cell_type": "code",
   "execution_count": null,
   "metadata": {},
   "outputs": [],
   "source": [
    "# Function definition is here\n",
    "def summing(arg1, arg2):\n",
    "    # Add both the parameters and return them.\"\n",
    "    sumTotal = arg1 + arg2\n",
    "    # print(\"Inside the function : \", sumTotal)\n",
    "    return sumTotal\n",
    "\n",
    "# Now you can call sum function\n",
    "total = summing(10, 20)\n",
    "print(\"The Total ...\", total)\n"
   ]
  },
  {
   "cell_type": "markdown",
   "metadata": {},
   "source": [
    "#### **Scope of Variables**\n",
    "\n",
    "All variables in a program may not be accessible at all locations in that program. This depends on where you have declared a variable.\n",
    "\n",
    "The `scope` of a variable determines the portion of the program where you can access a particular variable. \n",
    "\n",
    "There are two basic scopes of variables in Python −\n",
    "- Global variables\n",
    "- Local variables\n",
    "\n",
    "**Global vs. Local variables**\n",
    "\n",
    "Variables that are defined inside a function body / scope body have a **`local scope`**, and those defined outside of a scope have a **`global scope`**.\n",
    "\n",
    "This means that local variables can be accessed only inside the function / scope in which they are declared, whereas global variables can be accessed throughout the program body by all functions. \n",
    "\n",
    "When you call a function, the variables declared inside it are brought into scope. Following is an example −"
   ]
  },
  {
   "cell_type": "code",
   "execution_count": null,
   "metadata": {},
   "outputs": [],
   "source": [
    "# This is global variable.\n",
    "total = 0\n",
    "\n",
    "# Function definition is here\n",
    "def summary(arg1, arg2):\n",
    "    # Add both the parameters and return them.\"\n",
    "    innerSum = arg1 + arg2; # Here total is local variable.\n",
    "    print(\"Inside the function local sum : \", innerSum)\n",
    "    print(\"Inside the function global total : \", total)\n",
    "    return innerSum\n",
    "\n",
    "# Now you can call sum function\n",
    "total = (summary(10, 20))\n",
    "\n",
    "print(\"\\nOutside the function global total : \", total)\n",
    "print(\"Print outside the function - sum : \", innerSum)\n"
   ]
  },
  {
   "cell_type": "markdown",
   "metadata": {},
   "source": [
    "#### Python Lambda Functions\n",
    "\n",
    "One last thing to know about Python Functions is Lambda Functions.\n",
    "\n",
    "A lambda function is a small anonymous function (means that the function is without a name).\n",
    "\n",
    "The `lambda` keyword is used to define an anonymous function in Python; and Lambda functions are syntactically restricted to a single expression\n",
    "\n",
    "Syntax: -   `lambda arguments : expression`\n",
    "\n",
    "The expression is executed and the result is returned:\n",
    "\n",
    "```python\n",
    "    x = lambda a : a + 10\n",
    "    print(x(5))\n",
    "    \n",
    "```\n",
    "\n",
    "A lambda function can take any number of arguments, but can only have **one** expression.\n",
    "\n",
    "The expression is executed and the result is returned\n",
    "\n",
    "Learn the basics for yourself here in this article at W3Schools: [Python Lambda\n",
    "](https://www.w3schools.com/python/python_lambda.asp)\n"
   ]
  },
  {
   "cell_type": "markdown",
   "metadata": {},
   "source": [
    "\n",
    "Read this `FreeCodeCamp.com` article for more about [Functions in Python – Explained with Code Examples](https://www.freecodecamp.org/news/functions-in-python-a-beginners-guide/)\n"
   ]
  }
 ],
 "metadata": {
  "kernelspec": {
   "display_name": "Python 3.10.7 64-bit",
   "language": "python",
   "name": "python3"
  },
  "language_info": {
   "codemirror_mode": {
    "name": "ipython",
    "version": 3
   },
   "file_extension": ".py",
   "mimetype": "text/x-python",
   "name": "python",
   "nbconvert_exporter": "python",
   "pygments_lexer": "ipython3",
   "version": "3.10.7"
  },
  "orig_nbformat": 4,
  "vscode": {
   "interpreter": {
    "hash": "369f2c481f4da34e4445cda3fffd2e751bd1c4d706f27375911949ba6bb62e1c"
   }
  }
 },
 "nbformat": 4,
 "nbformat_minor": 2
}
