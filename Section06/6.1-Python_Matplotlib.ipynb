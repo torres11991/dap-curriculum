{
    "cells": [
        {
            "cell_type": "markdown",
            "metadata": {},
            "source": [
                "# Data Analytics\n",
                "\n",
                "## Matplotlib: Visualization with Python\n",
                "\n",
                "We are going to learn about ...\n",
                "\n",
                "- What is Matplotlib\n",
                "- Customizing Matplotlib plots\n",
                "- Visualization of data with Matplotlib\n",
                "\n",
                "<br>\n",
                "\n",
                "---\n"
            ]
        },
        {
            "cell_type": "markdown",
            "metadata": {},
            "source": [
                "## What is Matplotlib\n",
                "\n",
                "Matplotlib is a comprehensive library for creating static, animated, and interactive visualizations in Python.\n",
                "\n",
                "        Matplotlib makes easy things easy and hard things possible.\n",
                "\n",
                "- Create publication quality plots.\n",
                "- Make interactive figures that can zoom, pan, update.\n",
                "- Customize [visual style](https://matplotlib.org/stable/gallery/style_sheets/style_sheets_reference.html) and customize [layout](https://matplotlib.org/stable/tutorials/provisional/mosaic.html).\n",
                "- Export results to many [different file formats](https://matplotlib.org/stable/api/figure_api.html#matplotlib.figure.Figure.savefig).\n",
                "- Embed Matplotlib in [JupyterLab and Graphical User Interfaces](https://matplotlib.org/stable/gallery/#embedding-matplotlib-in-graphical-user-interfaces).\n",
                "- Use a rich array of [third-party packages](https://matplotlib.org/mpl-third-party/) built on Matplotlib.\n"
            ]
        },
        {
            "cell_type": "markdown",
            "metadata": {},
            "source": [
                "Types of graphs ..."
            ]
        },
        {
            "cell_type": "markdown",
            "metadata": {},
            "source": [
                "#### Basic graphs\n",
                "![Matplotlib Basic Graphs](images/mpl_basic.png)"
            ]
        },
        {
            "cell_type": "markdown",
            "metadata": {},
            "source": [
                "#### Plots of Arrays and Fields\n",
                "![Matplotlib Plots of Arrays and Fields](images/mpl_arrays_and_fields.png)"
            ]
        },
        {
            "cell_type": "markdown",
            "metadata": {},
            "source": [
                "#### Statistical Plots\n",
                "![Matplotlib Statistical Plots](images/mpl_statistics.png)"
            ]
        },
        {
            "cell_type": "markdown",
            "metadata": {},
            "source": [
                "#### Unstructured Coordinates\n",
                "![Matplotlib Unstructured Coordinates Plots](images/mpl_coordinates.png)"
            ]
        },
        {
            "cell_type": "markdown",
            "metadata": {},
            "source": [
                "#### 3D Plots\n",
                "![Matplotlib 3D Plots](images/mpl_3D.png)"
            ]
        },
        {
            "cell_type": "markdown",
            "metadata": {},
            "source": [
                "#### Analysis of a figure ...\n",
                "\n",
                "![Analysis of a Matplotlib figure](images/MatplotlibAnatomy.png)"
            ]
        },
        {
            "cell_type": "code",
            "execution_count": null,
            "metadata": {},
            "outputs": [],
            "source": [
                "### Anatomy of a Figure Plot\n",
                "import numpy as np\n",
                "import matplotlib.pyplot as plt\n",
                "from matplotlib.patches import Circle\n",
                "from matplotlib.patheffects import withStroke\n",
                "from matplotlib.ticker import AutoMinorLocator, MultipleLocator\n",
                "\n",
                "royal_blue = [0, 20/256, 82/256]\n",
                "\n",
                "### make the figure\n",
                "\n",
                "np.random.seed(19680801)\n",
                "\n",
                "X = np.linspace(0.5, 3.5, 100)\n",
                "Y1 = 3+np.cos(X)\n",
                "Y2 = 1+np.cos(1+X/0.75)/2\n",
                "Y3 = np.random.uniform(Y1, Y2, len(X))\n",
                "\n",
                "fig = plt.figure(figsize=(7.5, 7.5))\n",
                "ax = fig.add_axes([0.2, 0.17, 0.68, 0.7], aspect=1)\n",
                "\n",
                "ax.xaxis.set_major_locator(MultipleLocator(1.000))\n",
                "ax.xaxis.set_minor_locator(AutoMinorLocator(4))\n",
                "ax.yaxis.set_major_locator(MultipleLocator(1.000))\n",
                "ax.yaxis.set_minor_locator(AutoMinorLocator(4))\n",
                "ax.xaxis.set_minor_formatter(\"{x:.2f}\")\n",
                "\n",
                "ax.set_xlim(0, 4)\n",
                "ax.set_ylim(0, 4)\n",
                "\n",
                "ax.tick_params(which='major', width=1.0, length=10, labelsize=14)\n",
                "ax.tick_params(which='minor', width=1.0, length=5, labelsize=10, labelcolor='0.25')\n",
                "\n",
                "ax.grid(linestyle=\"--\", linewidth=0.5, color='.25', zorder=-10)\n",
                "\n",
                "ax.plot(X, Y1, c='C0', lw=2.5, label=\"Blue signal\", zorder=10)\n",
                "ax.plot(X, Y2, c='C1', lw=2.5, label=\"Orange signal\")\n",
                "ax.plot(X[::3], Y3[::3], linewidth=0, markersize=9,\n",
                "        marker='s', markerfacecolor='none', markeredgecolor='C4',\n",
                "        markeredgewidth=2.5)\n",
                "\n",
                "ax.set_title(\"Anatomy of a figure\", fontsize=20, verticalalignment='bottom')\n",
                "ax.set_xlabel(\"x Axis label\", fontsize=14)\n",
                "ax.set_ylabel(\"y Axis label\", fontsize=14)\n",
                "ax.legend(loc=\"upper right\", fontsize=14)\n",
                "\n",
                "\n",
                "### Annotate the figure\n",
                "\n",
                "def annotate(x, y, text, code):\n",
                "        # Circle marker\n",
                "        c = Circle((x, y), radius=0.15, clip_on=False, zorder=10, linewidth=2.5, \n",
                "                        edgecolor=royal_blue + [0.6], facecolor='none', \n",
                "                        path_effects=[withStroke(linewidth=7, foreground='white')])\n",
                "        ax.add_artist(c)\n",
                "\n",
                "        # use path_effects as a background for the texts\n",
                "        # draw the path_effects and the colored text separately so that the\n",
                "        # path_effects cannot clip other texts\n",
                "        for path_effects in [[withStroke(linewidth=7, foreground='white')], []]:\n",
                "                color = 'white' if path_effects else royal_blue\n",
                "                ax.text(x, y-0.2, text, zorder=100,\n",
                "                        ha='center', va='top', weight='bold', color=color,\n",
                "                        style='italic', fontfamily='Courier New',\n",
                "                        path_effects=path_effects)\n",
                "\n",
                "                color = 'white' if path_effects else 'black'\n",
                "                ax.text(x, y-0.33, code, zorder=100,\n",
                "                        ha='center', va='top', weight='normal', color=color,\n",
                "                        fontfamily='monospace', fontsize='medium',\n",
                "                        path_effects=path_effects)\n",
                "\n",
                "\n",
                "annotate(3.5, -0.13, \"Minor tick label\", \"ax.xaxis.set_minor_formatter\")\n",
                "annotate(-0.03, 1.0, \"Major tick\", \"ax.yaxis.set_major_locator\")\n",
                "annotate(0.00, 3.75, \"Minor tick\", \"ax.yaxis.set_minor_locator\")\n",
                "annotate(-0.15, 3.00, \"Major tick label\", \"ax.yaxis.set_major_formatter\")\n",
                "annotate(1.68, -0.39, \"xlabel\", \"ax.set_xlabel\")\n",
                "annotate(-0.38, 1.67, \"ylabel\", \"ax.set_ylabel\")\n",
                "annotate(1.52, 4.15, \"Title\", \"ax.set_title\")\n",
                "annotate(1.75, 2.80, \"Line\", \"ax.plot\")\n",
                "annotate(2.25, 1.54, \"Markers\", \"ax.scatter\")\n",
                "annotate(3.00, 3.00, \"Grid\", \"ax.grid\")\n",
                "annotate(3.60, 3.58, \"Legend\", \"ax.legend\")\n",
                "annotate(2.5, 0.55, \"Axes\", \"fig.subplots\")\n",
                "annotate(4, 4.5, \"Figure\", \"plt.figure\")\n",
                "annotate(0.65, 0.01, \"x Axis\", \"ax.xaxis\")\n",
                "annotate(0, 0.36, \"y Axis\", \"ax.yaxis\")\n",
                "annotate(4.0, 0.7, \"Spine\", \"ax.spines\")\n",
                "\n",
                "# frame around figure\n",
                "fig.patch.set(linewidth=4, edgecolor='0.5')\n",
                "plt.show()"
            ]
        },
        {
            "cell_type": "markdown",
            "metadata": {},
            "source": [
                "### Matplotlib Installation instructions ...\n",
                "\n",
                "To be able to use Matplotlib it needs to be installed on your system. Use this install command in your terminal...\n",
                "\n",
                "```python\n",
                "        pip install matplotlib\n",
                "````\n",
                "\n",
                "To use Matplotlib in your code you need to import the module\n",
                "\n",
                "```python\n",
                "        import matplotlib.pyplot as plt\n",
                "        import numpy as np\n",
                "```\n",
                "\n",
                "One can use Matplotlib in Python files, or in Jupyter Notebooks.\n",
                "\n",
                "Let's look at a few examples..."
            ]
        },
        {
            "cell_type": "markdown",
            "metadata": {},
            "source": [
                "\n",
                "---\n",
                "\n",
                "<br>\n"
            ]
        },
        {
            "cell_type": "markdown",
            "metadata": {},
            "source": [
                "#### EXAMPLE : - Draw 2 points in a diagram at position (1, 3) and position (8,10)"
            ]
        },
        {
            "cell_type": "code",
            "execution_count": null,
            "metadata": {},
            "outputs": [],
            "source": [
                "# Draw 2 points at (1, 3) and (8,10)\n",
                "import matplotlib.pyplot as plt\n",
                "import numpy as np\n",
                "\n",
                "xpoints = np.array([1, 8])\n",
                "ypoints = np.array([3,10]) \n",
                "\n",
                "plt.plot(xpoints, ypoints, 'o')\n",
                "plt.show()\n"
            ]
        },
        {
            "cell_type": "markdown",
            "metadata": {},
            "source": [
                "#### EXAMPLE: - Draw a line between 2 points in a diagram, from position (1, 3) to position (8,10)"
            ]
        },
        {
            "cell_type": "code",
            "execution_count": null,
            "metadata": {},
            "outputs": [],
            "source": [
                "# Draw a line from point (1, 3) to point (8,10)\n",
                "import matplotlib.pyplot as plt\n",
                "import numpy as np\n",
                "\n",
                "xpoints = np.array([1, 8])\n",
                "ypoints = np.array([3,10]) \n",
                "\n",
                "plt.plot(xpoints, ypoints)\n",
                "plt.show()\n"
            ]
        },
        {
            "cell_type": "markdown",
            "metadata": {},
            "source": [
                "#### EXAMPLE : - Draw a line in a diagram from point (1, 3) to point  (2, 8) then to point (6, 1) and finally to point (8,10)"
            ]
        },
        {
            "cell_type": "code",
            "execution_count": null,
            "metadata": {},
            "outputs": [],
            "source": [
                "# Draw a line to join points (1, 3), (2, 8), (6, 1) and (8,10)\n",
                "import matplotlib.pyplot as plt\n",
                "import numpy as np\n",
                "\n",
                "xpoints = np.array([1, 2, 6, 8])\n",
                "ypoints = np.array([3, 8, 1, 10]) \n",
                "\n",
                "plt.plot(xpoints, ypoints)\n",
                "plt.show()"
            ]
        },
        {
            "cell_type": "markdown",
            "metadata": {},
            "source": [
                "#### EXAMPLE : - Draw a sine wave pattern  ..."
            ]
        },
        {
            "cell_type": "code",
            "execution_count": null,
            "metadata": {},
            "outputs": [],
            "source": [
                "# draw a sine wave\n",
                "import matplotlib.pyplot as plt\n",
                "import numpy as np\n",
                "\n",
                "x = np.linspace(0, 2 * np.pi, 200)\n",
                "y = np.sin(x)\n",
                "\n",
                "fig, ax = plt.subplots()\n",
                "ax.plot(x, y)\n",
                "plt.show()"
            ]
        },
        {
            "cell_type": "markdown",
            "metadata": {},
            "source": [
                "\n",
                "---\n",
                "\n",
                "### Customize – Customize - Customize\n",
                "\n",
                "There are tons of options that can be customized on Matplotlib figures and graphs. We will briefly look at line styles and marker styles.\n",
                "\n",
                "#### **Matplotlib Line Styles**\n",
                "\n",
                "Simple line styles can be defined using the strings \"solid\", \"dotted\", \"dashed\" or \"dashdot\". \n",
                "\n",
                "More refined control can be achieved by providing a dash tuple of format `(offset, (on_off_seq))`.\n",
                "\n",
                "For example, `(0, (3, 10, 1, 15))` means (3pt line, 10pt space, 1pt line, 15pt space) with no offset, while `(5, (10, 3))`, means (10pt line, 3pt space), but skip the first 5pt line.\n",
                "\n",
                "Here are a few quick examples:- \n",
                "\n",
                "```python\n",
                "    linestyle_str = [\n",
                "        ('solid', 'solid'),      # Same as (0, ()) or '-'\n",
                "        ('dotted', 'dotted'),    # Same as (0, (1, 1)) or ':'\n",
                "        ('dashed', 'dashed'),    # Same as '--'\n",
                "        ('dashdot', 'dashdot')]  # Same as '-.'\n",
                "```\n",
                "\n",
                "Here is a pretty comprehensive list of line styles:-\n",
                "\n",
                "![Named line styles](images/named_line_styles.png)"
            ]
        },
        {
            "cell_type": "code",
            "execution_count": null,
            "metadata": {},
            "outputs": [],
            "source": [
                "#### Matplotlib Line styles\n",
                "import numpy as np\n",
                "import matplotlib.pyplot as plt\n",
                "\n",
                "linestyle_str = [\n",
                "    ('solid', 'solid'),      # Same as (0, ()) or '-'\n",
                "    ('dotted', 'dotted'),    # Same as (0, (1, 1)) or ':'\n",
                "    ('dashed', 'dashed'),    # Same as '--'\n",
                "    ('dashdot', 'dashdot')]  # Same as '-.'\n",
                "\n",
                "linestyle_tuple = [\n",
                "    ('loosely dotted',        (0, (1, 10))),\n",
                "    ('dotted',                (0, (1, 1))),\n",
                "    ('densely dotted',        (0, (1, 1))),\n",
                "    ('long dash with offset', (5, (10, 3))),\n",
                "    ('loosely dashed',        (0, (5, 10))),\n",
                "    ('dashed',                (0, (5, 5))),\n",
                "    ('densely dashed',        (0, (5, 1))),\n",
                "\n",
                "    ('loosely dashdotted',    (0, (3, 10, 1, 10))),\n",
                "    ('dashdotted',            (0, (3, 5, 1, 5))),\n",
                "    ('densely dashdotted',    (0, (3, 1, 1, 1))),\n",
                "\n",
                "    ('dashdotdotted',         (0, (3, 5, 1, 5, 1, 5))),\n",
                "    ('loosely dashdotdotted', (0, (3, 10, 1, 10, 1, 10))),\n",
                "    ('densely dashdotdotted', (0, (3, 1, 1, 1, 1, 1)))]\n",
                "\n",
                "\n",
                "def plot_linestyles(ax, linestyles, title):\n",
                "    X, Y = np.linspace(0, 100, 10), np.zeros(10)\n",
                "    yticklabels = []\n",
                "\n",
                "    for i, (name, linestyle) in enumerate(linestyles):\n",
                "        ax.plot(X, Y+i, linestyle=linestyle, linewidth=1.5, color='black')\n",
                "        yticklabels.append(name)\n",
                "\n",
                "    ax.set_title(title)\n",
                "    ax.set(ylim=(-0.5, len(linestyles)-0.5),\n",
                "            yticks=np.arange(len(linestyles)),\n",
                "            yticklabels=yticklabels)\n",
                "    ax.tick_params(left=False, bottom=False, labelbottom=False)\n",
                "    ax.spines[:].set_visible(False)\n",
                "\n",
                "    # For each line style, add a text annotation with a small offset from\n",
                "    # the reference point (0 in Axes coords, y tick value in Data coords).\n",
                "    for i, (name, linestyle) in enumerate(linestyles):\n",
                "        ax.annotate(repr(linestyle),\n",
                "                    xy=(0.0, i), xycoords=ax.get_yaxis_transform(),\n",
                "                    xytext=(-6, -12), textcoords='offset points',\n",
                "                    color=\"blue\", fontsize=8, ha=\"right\", family=\"monospace\")\n",
                "\n",
                "\n",
                "fig, (ax0, ax1) = plt.subplots(2, 1, figsize=(10, 8), height_ratios=[1, 3])\n",
                "\n",
                "plot_linestyles(ax0, linestyle_str[::-1], title='Named linestyles')\n",
                "plot_linestyles(ax1, linestyle_tuple[::-1], title='Parametrized linestyles')\n",
                "\n",
                "plt.tight_layout()\n",
                "plt.show()"
            ]
        },
        {
            "cell_type": "markdown",
            "metadata": {},
            "source": [
                "<br>\n",
                "\n",
                "#### **Matplotlib Markers**\n",
                "\n",
                "Line markers on a Matplotlib graph can be customized in many different ways. Here are some simple quick references to help you get started.\n",
                "\n",
                "| ![Matplotlib markers](images/mpl_markers1.jpg) | ![More Matplotlib markers](images/mpl_markers2.jpg) |\n",
                "|----|----|\n",
                "\n",
                "\n",
                "Here are simple syntax examples of how to use some marker customizations:-\n",
                "\n",
                "```python\n",
                "    plt.plot(ypoints, marker = 'o', ms = 20)\n",
                "    plt.plot(ypoints, marker = '*', ms = 20, mec = 'r')\n",
                "    plt.plot(ypoints, marker = 'H', ms = 20, mfc = 'r')\n",
                "    plt.plot(ypoints, marker = 'D', ms = 20, mec = 'r', mfc = 'r')\n",
                "```\n",
                "\n",
                "In the following examples the abbreviations mean the following:\n",
                "\n",
                "-   **ms** = markersize\t\t\n",
                "-   **mec** = marker edge color\t\t\n",
                "-   **mfc** = marker face color\n"
            ]
        },
        {
            "cell_type": "code",
            "execution_count": null,
            "metadata": {},
            "outputs": [],
            "source": [
                "#### Matplotlib simple Line styles\n",
                "import numpy as np\n",
                "import matplotlib.pyplot as plt\n",
                "\n",
                "xpoints = np.array([1, 2, 6, 8])\n",
                "ypoints = np.array([3, 8, 1, 10]) \n",
                "\n",
                "plt.plot(ypoints, marker = 'o', ms = 10)\n",
                "plt.plot(xpoints, marker = '*', ms = 20, mec = 'k')\n",
                "plt.plot(xpoints, ypoints)\n",
                "plt.show()\n",
                "\n",
                "plt.plot(ypoints, marker = 'H', ms = 12, mfc = 'r')\n",
                "plt.plot(xpoints, marker = 'D', ms = 5, mec = 'r', mfc = 'b')\n",
                "plt.plot(xpoints, ypoints)\n",
                "plt.show()\n",
                "\n",
                "plt.plot(ypoints, marker = 'p', ms = 15, mec = 'r', mfc = 'm')\n",
                "plt.plot(xpoints, marker = '4', ms = 9, mec = 'b')\n",
                "plt.plot(xpoints, ypoints)\n",
                "plt.show()"
            ]
        },
        {
            "cell_type": "markdown",
            "metadata": {},
            "source": [
                "You can read all about Matplotlib markers in the documentation at [matplotlib.markers](https://matplotlib.org/stable/api/markers_api.html#module-matplotlib.markers)\n",
                "\n",
                "Here is a shortcut to the [Marker code reference](https://matplotlib.org/stable/gallery/lines_bars_and_markers/marker_reference.html#sphx-glr-gallery-lines-bars-and-markers-marker-reference-py)"
            ]
        },
        {
            "cell_type": "markdown",
            "metadata": {},
            "source": [
                "\n",
                "#### **Matplotlib Color Syntax**\n",
                "\n",
                "There are a great range of options to beautifying graphs with Matplotlib's support for visualizing information using a vast array of colors and colormaps, and even the ability to specify own custom options.\n",
                "\n",
                "Here is a quick cheat-sheet for color syntax:-\n",
                "\n",
                "![Matplotlib color syntax](images/mpl_color_syntax.jpg) "
            ]
        },
        {
            "cell_type": "code",
            "execution_count": null,
            "metadata": {},
            "outputs": [],
            "source": [
                "### Examples of Matplotlib Color Palettes\n",
                "from matplotlib.patches import Rectangle\n",
                "import matplotlib.pyplot as plt\n",
                "import matplotlib.colors as mcolors\n",
                "\n",
                "\n",
                "def plot_colortable(colors, sort_colors=True, emptycols=0):\n",
                "\n",
                "    cell_width = 212\n",
                "    cell_height = 22\n",
                "    swatch_width = 48\n",
                "    margin = 12\n",
                "\n",
                "    # Sort colors by hue, saturation, value and name.\n",
                "    if sort_colors is True:\n",
                "        by_hsv = sorted((tuple(mcolors.rgb_to_hsv(mcolors.to_rgb(color))), name)\n",
                "                        for name, color in colors.items())\n",
                "        names = [name for hsv, name in by_hsv]\n",
                "    else:\n",
                "        names = list(colors)\n",
                "\n",
                "    n = len(names)\n",
                "    ncols = 4 - emptycols\n",
                "    nrows = n // ncols + int(n % ncols > 0)\n",
                "\n",
                "    width = cell_width * 4 + 2 * margin\n",
                "    height = cell_height * nrows + 2 * margin\n",
                "    dpi = 72\n",
                "\n",
                "    fig, ax = plt.subplots(figsize=(width / dpi, height / dpi), dpi=dpi)\n",
                "    fig.subplots_adjust(margin/width, margin/height,\n",
                "                        (width-margin)/width, (height-margin)/height)\n",
                "    ax.set_xlim(0, cell_width * 4)\n",
                "    ax.set_ylim(cell_height * (nrows-0.5), -cell_height/2.)\n",
                "    ax.yaxis.set_visible(False)\n",
                "    ax.xaxis.set_visible(False)\n",
                "    ax.set_axis_off()\n",
                "    \n",
                "    if emptycols == 1:\n",
                "        ax.set_title(\"BASE COLORS\", fontsize=20, verticalalignment='bottom')\n",
                "    elif emptycols == 2:\n",
                "        ax.set_title(\"TABLEAU COLORS\", fontsize=20, verticalalignment='bottom')\n",
                "    else:\n",
                "        ax.set_title(\"CSS COLORS\", fontsize=20, verticalalignment='bottom')\n",
                "    \n",
                "\n",
                "    for i, name in enumerate(names):\n",
                "        row = i % nrows\n",
                "        col = i // nrows\n",
                "        y = row * cell_height\n",
                "\n",
                "        swatch_start_x = cell_width * col\n",
                "        text_pos_x = cell_width * col + swatch_width + 7\n",
                "\n",
                "        ax.text(text_pos_x, y, name, fontsize=14,\n",
                "                horizontalalignment='left',\n",
                "                verticalalignment='center')\n",
                "\n",
                "        ax.add_patch(\n",
                "            Rectangle(xy=(swatch_start_x, y-9), width=swatch_width,\n",
                "                        height=18, facecolor=colors[name], edgecolor='0.7')\n",
                "        )\n",
                "    # return fig\n",
                "\n",
                "\n",
                "# Base colors\n",
                "plot_colortable(mcolors.BASE_COLORS, sort_colors=False, emptycols=1)\n",
                "\n",
                "\n",
                "# Tableau Palette\n",
                "plot_colortable(mcolors.TABLEAU_COLORS, sort_colors=False, emptycols=2)\n",
                "\n",
                "\n",
                "# CSS Colors\n",
                "plot_colortable(mcolors.CSS4_COLORS)"
            ]
        },
        {
            "cell_type": "markdown",
            "metadata": {},
            "source": [
                "You can read all about Matplotlib colors and color usage parameters in the documentation at [matplotlib colors](https://matplotlib.org/stable/tutorials/colors/index.html#)"
            ]
        },
        {
            "cell_type": "markdown",
            "metadata": {},
            "source": [
                "#### Advanced Markers ...\n",
                "\n",
                "Here below are some advanced examples: - \n",
                "\n",
                "![Matplotlib Marker Examples](images/matplotlib_markets_examples.png)"
            ]
        },
        {
            "cell_type": "code",
            "execution_count": null,
            "metadata": {},
            "outputs": [],
            "source": [
                "# advanced marker examples in use\n",
                "import numpy as np\n",
                "import matplotlib.pyplot as plt\n",
                "\n",
                "# Fixing random state for reproducibility\n",
                "np.random.seed(19680801)\n",
                "\n",
                "x = np.random.rand(10)\n",
                "y = np.random.rand(10)\n",
                "z = np.sqrt(x**2 + y**2)\n",
                "\n",
                "fig, axs = plt.subplots(2, 3, sharex=True, sharey=True)\n",
                "\n",
                "# marker symbol\n",
                "axs[0, 0].scatter(x, y, s=80, c=z, marker=\">\")\n",
                "axs[0, 0].set_title(\"symbol='>'\")\n",
                "\n",
                "# marker from TeX\n",
                "axs[0, 1].scatter(x, y, s=80, c=z, marker=r'$\\alpha$')\n",
                "axs[0, 1].set_title(r\"from TeX=r'\\$\\alpha\\$'\")\n",
                "\n",
                "# marker from path\n",
                "verts = [[-1, -1], [1, -1], [1, 1], [-1, -1]]\n",
                "axs[0, 2].scatter(x, y, s=80, c=z, marker=verts)\n",
                "axs[0, 2].set_title(\"from path=verts\")\n",
                "\n",
                "# regular polygon marker\n",
                "axs[1, 0].scatter(x, y, s=80, c=z, marker=(5, 0))\n",
                "axs[1, 0].set_title(\"polygon=(5, 0)\")\n",
                "\n",
                "# regular star marker\n",
                "axs[1, 1].scatter(x, y, s=80, c=z, marker=(5, 1))\n",
                "axs[1, 1].set_title(\"star=(5, 1)\")\n",
                "\n",
                "# regular asterisk marker\n",
                "axs[1, 2].scatter(x, y, s=80, c=z, marker=(5, 2))\n",
                "axs[1, 2].set_title(\"asterisk=(5, 2)\")\n",
                "\n",
                "plt.tight_layout()\n",
                "plt.show()"
            ]
        },
        {
            "cell_type": "markdown",
            "metadata": {},
            "source": [
                "### Additional resources on Matplotlib\n",
                "\n",
                "- [Getting started guide](https://matplotlib.org/stable/users/getting_started/#getting-started)\n",
                "- [Matplotlib User Guide](https://matplotlib.org/stable/users/index.html)\n",
                "- [Plenty of additional examples](https://matplotlib.org/stable/plot_types/index.html)\n",
                "- [Matplotlib 3.6.2 documentation](https://matplotlib.org/stable/index.html)\n",
                "- [Matplotlib cheatsheets and handouts](https://matplotlib.org/cheatsheets/)\n",
                "\n",
                "### Additional Matplotlib Examples\n",
                "\n",
                "Let's work some additional examples in the remaining time we have. In the `Activities` folder open -- [Matplotlib_InClassExercises.ipynb](activities/Matplotlib_InClassExercises.ipynb)\n"
            ]
        }
    ],
    "metadata": {
        "kernelspec": {
            "display_name": "Python 3.10.7 64-bit",
            "language": "python",
            "name": "python3"
        },
        "language_info": {
            "codemirror_mode": {
                "name": "ipython",
                "version": 3
            },
            "file_extension": ".py",
            "mimetype": "text/x-python",
            "name": "python",
            "nbconvert_exporter": "python",
            "pygments_lexer": "ipython3",
            "version": "3.10.7 (tags/v3.10.7:6cc6b13, Sep  5 2022, 14:08:36) [MSC v.1933 64 bit (AMD64)]"
        },
        "orig_nbformat": 4,
        "vscode": {
            "interpreter": {
                "hash": "369f2c481f4da34e4445cda3fffd2e751bd1c4d706f27375911949ba6bb62e1c"
            }
        }
    },
    "nbformat": 4,
    "nbformat_minor": 2
}
