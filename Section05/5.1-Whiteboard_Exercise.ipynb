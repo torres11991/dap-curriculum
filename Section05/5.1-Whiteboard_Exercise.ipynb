{
 "cells": [
  {
   "cell_type": "markdown",
   "metadata": {},
   "source": [
    "# Interview Whiteboard Coding\n",
    "aka\n",
    "# Live Coding"
   ]
  },
  {
   "cell_type": "markdown",
   "metadata": {},
   "source": [
    "### Steps for success!\n"
   ]
  },
  {
   "cell_type": "markdown",
   "metadata": {},
   "source": [
    "\n",
    "1. Gather requirements\n",
    "1. Break down problem\n",
    "1. Write pseudocode\n",
    "1. Code a solution\n",
    "1. Test the solution\n",
    "1. Consider changes"
   ]
  },
  {
   "cell_type": "markdown",
   "metadata": {},
   "source": [
    "### Gather Requirements\n"
   ]
  },
  {
   "cell_type": "markdown",
   "metadata": {},
   "source": [
    "- Asking too many questions is better than too few\n",
    "- Establish what your input and output is supposed to be\n",
    "- Find edge cases\n",
    "- Write out requirements\n",
    "- Establish programming language and expected structure\n",
    "  - Run once \"root\" code\n",
    "  - Function\n",
    "\n",
    "*The goal is the clarify the problem to the point that there are no more questions.*"
   ]
  },
  {
   "cell_type": "markdown",
   "metadata": {},
   "source": [
    "### Break Down the Problem\n"
   ]
  },
  {
   "cell_type": "markdown",
   "metadata": {},
   "source": [
    "\n",
    "- Restate the key points\n",
    "- Establish the priorities of the problems"
   ]
  },
  {
   "cell_type": "markdown",
   "metadata": {},
   "source": [
    "### Pseudocode"
   ]
  },
  {
   "cell_type": "markdown",
   "metadata": {},
   "source": [
    "- Don’t write out any code or syntax\n",
    "- Focus on structure\n",
    "- Just use plain old English, explain it to your Grandma.\n",
    "\n",
    "```\n",
    "Enter Value\n",
    "If Value greater than 10\n",
    "  Log \"Your number is greater than 10\"\n",
    "If Value less than 10\n",
    "  Log \"Your number is less than 10\"\n",
    "```"
   ]
  },
  {
   "cell_type": "markdown",
   "metadata": {},
   "source": [
    "### Write a Solution"
   ]
  },
  {
   "cell_type": "markdown",
   "metadata": {},
   "source": [
    "- Write code! Finally!!!\n",
    "- Talk with your interviewer about what you are doing\n",
    "  - THINK OUT LOUD\n",
    "- Mistakes are okay! \n",
    "- Syntax errors are NOT the end of the world!\n",
    "- Be sure to write neatly so your code can be read\n",
    "\n",
    "*If whiteboarding digitally, you should be able to drop code in a Chrome developer console and execute.*"
   ]
  },
  {
   "cell_type": "markdown",
   "metadata": {},
   "source": [
    "### Test"
   ]
  },
  {
   "cell_type": "markdown",
   "metadata": {},
   "source": [
    "- Walk through the steps of your code verbally, OUT LOUD.\n",
    "- Assign values your variables. Take us on an input’s journey!\n",
    "- Test edge cases"
   ]
  },
  {
   "cell_type": "markdown",
   "metadata": {},
   "source": [
    "### Consider Changes"
   ]
  },
  {
   "cell_type": "markdown",
   "metadata": {},
   "source": [
    "- Review and fix any bugs\n",
    "- Discuss ways to improve"
   ]
  },
  {
   "cell_type": "markdown",
   "metadata": {},
   "source": [
    "### Rules/Expectations\n"
   ]
  },
  {
   "cell_type": "markdown",
   "metadata": {},
   "source": [
    "- Do NOT search for the solution for your question.\n",
    "- You may use the curriculum or the following websites as a reference for Python\n",
    "  - https://docs.python.org/3/reference\n",
    "  - https://docs.python.org/3/library\n",
    "  - https://realpython.com/\n",
    "  - https://www.tutorialspoint.com/python3\n",
    "- A team member should present one section:\n",
    "  - Requirements clarification & questions asked\n",
    "  - Break down the problem\n",
    "  - Present the pseudocode\n",
    "  - Present the code\n",
    "  - Run through/Test the code\n",
    "- The entire class will discuss improvements & enhancements."
   ]
  },
  {
   "cell_type": "markdown",
   "metadata": {},
   "source": [
    "## Question 1\n"
   ]
  },
  {
   "cell_type": "markdown",
   "metadata": {},
   "source": [
    "\n",
    "Write a Python function named sum2Integers that takes in two integers and returns their sum, unless the two integers are equal.\n",
    "\n",
    "If the two integers are equal, then return three times their sum.\n",
    "\n",
    "Example:\n",
    "```\n",
    "sum2Integers(10, 20) // --> 30\n",
    "sum2Integers(10, 10) // --> 60\n",
    "```"
   ]
  },
  {
   "cell_type": "markdown",
   "metadata": {},
   "source": [
    "## Question 2\n"
   ]
  },
  {
   "cell_type": "markdown",
   "metadata": {},
   "source": [
    "\n",
    "Write a Python function named findHighest that takes in integers and returns the integer with the highest value.\n",
    "\n",
    "(Do NOT use max()!!!)\n",
    "\n",
    "Example:\n",
    "```\n",
    "findHighest(5, 8, 1) // --> 8\n",
    "findHighest([4, 1, -3]) // --> 4\n",
    "```\n",
    "*Take note of the argument data type options.*"
   ]
  },
  {
   "cell_type": "markdown",
   "metadata": {},
   "source": [
    "## Question 3\n"
   ]
  },
  {
   "cell_type": "markdown",
   "metadata": {},
   "source": [
    "\n",
    "Write a Python function named isFive that generates a random number between 0-10.\n",
    "\n",
    "If the number is greater than 5, log “{number} is greater than five!”.\n",
    "\n",
    "If it is less than 5, log “{number} is less than five!”\n",
    "\n",
    "Example:\n",
    "```\n",
    "isFive()\n",
    "```"
   ]
  },
  {
   "cell_type": "markdown",
   "metadata": {},
   "source": [
    "## Question 4\n"
   ]
  },
  {
   "cell_type": "markdown",
   "metadata": {},
   "source": [
    "\n",
    "Write a Python function named countVowels that counts the number of vowels in a string.\n",
    "\n",
    "The vowels are \"a\", \"e\", \"i\", \"o\" & \"u\"\n",
    "\n",
    "Example:\n",
    "```\n",
    "countVowels('hello') // --> 2\n",
    "countVowels('why') // --> 0\n",
    "```"
   ]
  },
  {
   "cell_type": "markdown",
   "metadata": {},
   "source": [
    "## Question 5\n"
   ]
  },
  {
   "cell_type": "markdown",
   "metadata": {},
   "source": [
    "\n",
    "Write a Python function named isPalindrome that determines if a string is a palindrome.\n",
    "\n",
    "A palindrome is a string that is the same forward and backwards.\n",
    "\n",
    "Example:\n",
    "```\n",
    "isPalindrome('racecar') // --> true\n",
    "isPalindrome('table') // --> false\n",
    "```"
   ]
  }
 ],
 "metadata": {
  "kernelspec": {
   "display_name": "Python 3.10.8 64-bit (microsoft store)",
   "language": "python",
   "name": "python3"
  },
  "language_info": {
   "name": "python",
   "version": "3.10.8"
  },
  "orig_nbformat": 4,
  "vscode": {
   "interpreter": {
    "hash": "2b49d4a1b0bb357609d4321c464d338065ea01cc6a39a6556c610c8eb9426d1b"
   }
  }
 },
 "nbformat": 4,
 "nbformat_minor": 2
}
