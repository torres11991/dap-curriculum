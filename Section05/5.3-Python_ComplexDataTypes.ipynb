{
 "cells": [
  {
   "cell_type": "markdown",
   "metadata": {},
   "source": [
    "# Python Complex Data Types\n",
    "\n",
    "The OBJECTIVES of This Section: Learn about ...\n",
    "\n",
    "- Lists and List operations\n",
    "- Tuples\n",
    "- Sets\n",
    "- Dictionaries\n",
    "\n",
    "\n",
    "There are 4 compound data types and data structures in Python. These are -- Lists, Tuples, Sets, and Dictionaries.\n",
    "\n",
    "Variables have so far only stored one value. Compound data structures are data types that can store a large number of values.\n",
    "\n",
    "<br>\n",
    "\n",
    "---\n",
    "\n",
    "<br>\n",
    "\n",
    "## Lists\n",
    "\n",
    "In Python, a list is an ordered sequence that can hold several object types such as integer, character, or float. In other programming languages, a list is equivalent to an array.\n",
    "\n",
    "**A `List` is just a list of values separated by commas, and enclosed in square square brackets `[ ]`.**\n",
    "\n",
    "- Lists always have a strict order BUT they can be modified\n",
    "- Lists can have any number of duplicate elements in the list\n",
    "- Lists can contain any data type\n",
    "- Lists written with square brackets `[]`\n",
    "\n",
    "![Python Lists](./images/python-list.jpg)\n"
   ]
  },
  {
   "cell_type": "code",
   "execution_count": null,
   "metadata": {},
   "outputs": [],
   "source": [
    "# List examples\n",
    "inputList = [\"hello\", \"class\", 1, 3.5, \"python\", [1,2,3,4,5], {\"helpfulStuff\" : \"documents\"}, False, \"end\" ]\n",
    "print(\"inputList ...\", inputList)\n",
    "\n",
    "fruitList = [\"apple\", \"banana\", \"cherry\"]\n",
    "print(\"\\nfruitList ...\", fruitList)\n"
   ]
  },
  {
   "cell_type": "markdown",
   "metadata": {},
   "source": [
    "### Operations on List\n",
    "\n",
    "There are numerous operations that can be performed on lists\n",
    "- getting the length\n",
    "- accessing elements by index\n",
    "- extending and changing lists\n",
    "- adding and repeating lists\n",
    "- sorting lists\n",
    "- copy, clear and delete lists\n",
    "\n",
    "<br>\n",
    "\n",
    "#### **1.) Getting the Size of the List using the `.len()` function**\n",
    "\n",
    "- The `.len()` function returns the number of items in a list, when the object is a list, and create a variable to store this value.\n"
   ]
  },
  {
   "cell_type": "code",
   "execution_count": null,
   "metadata": {},
   "outputs": [],
   "source": [
    "# input list\n",
    "lst = [\"Hello\", \"TutorialsPoint\", 78, \"Hi\", \"Everyone\"]\n",
    "\n",
    "# getting list length\n",
    "listLength = len(lst)\n",
    "\n",
    "# Printing the size of a list\n",
    "print(\"Size of thea List = \", listLength)\n"
   ]
  },
  {
   "cell_type": "markdown",
   "metadata": {},
   "source": [
    "#### **2.) Accessing List Elements Using `Indexing`**\n",
    "\n",
    "- The term \"indexing\" refers to an element of an iterable, based on its position inside the iterable.\n",
    "- The indexing begins from 0 -- the first element in a sequence is represented by index 0.\n",
    "- Negative indexing begins from -1 -- the last element in the sequence is represented by index -1."
   ]
  },
  {
   "cell_type": "code",
   "execution_count": null,
   "metadata": {},
   "outputs": [],
   "source": [
    "# input list\n",
    "inputList =[1, 4, 8, 6, 2]\n",
    "\n",
    "# accessing the list element at index 2 using positive indexing\n",
    "print(\"Element at index 2:\", inputList[2])\n",
    "\n",
    "# accessing the last element in list using negative indexing\n",
    "print(\"last element of the input list:\", inputList[-1])\n"
   ]
  },
  {
   "cell_type": "markdown",
   "metadata": {},
   "source": [
    "#### **3.) Extending and Changing a List**\n",
    "\n",
    "- One can replace an element in a list using the index value of the element\n",
    "- Using indexing, a range of elements can be changed or removed from a List\n",
    "- Items can be added to one list from another list with `.extend()`\n",
    "- Items can be `.removed()` from, or `.pop()`-ed off a list"
   ]
  },
  {
   "cell_type": "code",
   "execution_count": null,
   "metadata": {},
   "outputs": [],
   "source": [
    "# Remember fruitList? What is the length?\n",
    "fruitList = [\"apple\", \"banana\", \"cherry\"]\n",
    "print(\"fruitList length = \", len(fruitList))\n",
    "\n",
    "# find the 2nd element of the fruitList\n",
    "print(\"\\nSecond fruit ... \", fruitList[1])\n",
    "\n",
    "# replace the 2nd element in the list\n",
    "fruitList[1] = \"blackcurrant\"\n",
    "print(\"2nd fruit replaced ... \", fruitList)\n"
   ]
  },
  {
   "cell_type": "code",
   "execution_count": null,
   "metadata": {},
   "outputs": [],
   "source": [
    "# replace a range of elements from index #1 to index #3 (not including #3)\n",
    "fruitList = [\"apple\", \"blackcurrant\", \"cherry\"]\n",
    "fruitList[1:3] = [\"blackberry\", \"watermelon\"]\n",
    "print(\" replaced [1:3] ... \", fruitList)\n"
   ]
  },
  {
   "cell_type": "code",
   "execution_count": null,
   "metadata": {},
   "outputs": [],
   "source": [
    "# 'appending' an element at the end of the list\n",
    "fruitList = [\"apple\", \"blackcurrant\", \"cherry\"]\n",
    "fruitList.append(\"orange\")\n",
    "print(\"New list ... \", fruitList)\n",
    "\n",
    "# 'insert' an element at index #1\n",
    "fruitList.insert(1, \"Bananana\")\n",
    "print(\"\\nBigger list .. \", fruitList)\n"
   ]
  },
  {
   "cell_type": "code",
   "execution_count": null,
   "metadata": {},
   "outputs": [],
   "source": [
    "# 'extend' one list with another\n",
    "firstList = [\"apple\", \"banana\", \"cherry\"]\n",
    "secondList = [\"mango\", \"pineapple\", \"papaya\"]\n",
    "\n",
    "firstList.extend(secondList)\n",
    "print(\"Extended firstList ... \", firstList)\n"
   ]
  },
  {
   "cell_type": "code",
   "execution_count": null,
   "metadata": {},
   "outputs": [],
   "source": [
    "superFruitList = [\"apple\", \"banana\", \"cherry\", \"mango\", \"pineapple\", \"papaya\"]\n",
    "\n",
    "# 'removing' an element from the list\n",
    "superFruitList.remove(\"banana\")\n",
    "print(\"superFruitList = \", superFruitList)\n",
    "\n",
    "# 'pop' off an element at index #1\n",
    "superFruitList.pop(1)\n",
    "print(\"\\nsuperFruitList #1 popped = \", superFruitList)\n",
    "\n",
    "# 'pop' the last element with pop()\n",
    "superFruitList.pop()\n",
    "print(\"\\nsuperFruitList last popped = \", superFruitList)\n"
   ]
  },
  {
   "cell_type": "markdown",
   "metadata": {},
   "source": [
    "#### **4.) Repetition(`*`) and Addition(`+`) operations on List Items**\n",
    "\n",
    "- Python List includes the `*` and the `+` operators, which allow for creating a new list with more elements.\n"
   ]
  },
  {
   "cell_type": "code",
   "execution_count": null,
   "metadata": {},
   "outputs": [],
   "source": [
    "# add 2 lists together with the addition (+) sign\n",
    "list1 = [\"apple\", \"banana\", \"cherry\"]\n",
    "list2 = [\"kiwi\", \"strawberry\", \"grape\"]\n",
    "list3 = list1 + list2\n",
    "print(\"New added list ...\", list3)\n",
    "\n",
    "# repeat a list for a number of times (*)\n",
    "inputList = [5, 6, 7]\n",
    "# Repeating the input list 3 times using the * operator\n",
    "multipliedList = inputList * 3\n",
    "print(\"\\nMultiplied list ... \", multipliedList)\n"
   ]
  },
  {
   "cell_type": "markdown",
   "metadata": {},
   "source": [
    "#### **5.) Sorting Lists in different ways**\n",
    "\n",
    "The `.sort()` method sorts the list ascending by default.\n",
    "- Syntax: list.sort(reverse=True|False, key=myFunc)\n",
    "- reverse is Optional. reverse=True will sort the list descending. Default is reverse=False\n",
    "- key is Optional. A function to specify the sorting criteria(s)\n",
    "\n",
    "> IMPORTANT: In Python 3 the  List `.sort()` method no longer sorts lists of mixed data types. To use the list.sort(), the data-type in the list needs to be of the same type.\n"
   ]
  },
  {
   "cell_type": "code",
   "execution_count": null,
   "metadata": {},
   "outputs": [],
   "source": [
    "# 'sort' a list descending\n",
    "cars = ['Ford', 'BMW', 'Volvo']\n",
    "cars.sort(reverse=True)\n",
    "print(\"Sort1 - \", cars)\n",
    "\n",
    "# 'sort' assenting\n",
    "cars.sort()\n",
    "print(\"Sort2 - \", cars)\n"
   ]
  },
  {
   "cell_type": "code",
   "execution_count": null,
   "metadata": {},
   "outputs": [],
   "source": [
    "# Sort a list using a 'key'\n",
    "#   EG: sort by the length of the values in the list:\n",
    "cars = ['Ford', 'Mitsubishi', 'BMW', 'VW']\n",
    "\n",
    "# Define a function that returns the length of the values in the List:\n",
    "def myFunc(e):\n",
    "    return len(e)\n",
    "\n",
    "cars.sort(key=myFunc)\n",
    "print(cars)\n"
   ]
  },
  {
   "cell_type": "markdown",
   "metadata": {},
   "source": [
    "#### **6.) Copy, Clear and Delete lists**\n",
    "\n",
    "- The `.copy()` method returns a shallow copy of the list; It returns a new list, and it doesn't modify the original list.\n",
    "- We can also use the `\"=\"` operator to \"copy\" a list by assigning the 'old_list' to a 'new_list'. \n",
    "    -   However, there is a problem copying lists in this way: \n",
    "    -   When modifying 'new_list', the 'old_list' is also modified\n",
    "    -   This is because the new list is **referencing or pointing** to the same 'old_list' object location/address in system memory"
   ]
  },
  {
   "cell_type": "code",
   "execution_count": null,
   "metadata": {},
   "outputs": [],
   "source": [
    "# copying a list using .copy()\n",
    "first_list = ['cat', 0, 6.7]\n",
    "\n",
    "new_list = first_list.copy()\n",
    "print('Copied List:', new_list)\n"
   ]
  },
  {
   "cell_type": "code",
   "execution_count": null,
   "metadata": {},
   "outputs": [],
   "source": [
    "# Issues with copying a list through ASSIGNMENT \"=\"\n",
    "old_list = [1, 2, 3]\n",
    "\n",
    "# copy list using =\n",
    "new_list = old_list\n",
    "\n",
    "# add an element to new_list\n",
    "new_list.append(\"a\")\n",
    "\n",
    "# both lists reference the same location in memory\n",
    "print('New List:', new_list)\n",
    "print('Old List:', old_list)\n"
   ]
  },
  {
   "cell_type": "code",
   "execution_count": null,
   "metadata": {},
   "outputs": [],
   "source": [
    "# The .clear() method removes all items from a list.\n",
    "prime_numbers = [2, 3, 5, 7, 9, 11]\n",
    "\n",
    "# remove all list elements\n",
    "prime_numbers.clear()\n",
    "\n",
    "# Updated prime_numbers List\n",
    "print('List after clear():', prime_numbers)\n"
   ]
  },
  {
   "cell_type": "code",
   "execution_count": null,
   "metadata": {},
   "outputs": [],
   "source": [
    "# Remove items by index or slice using 'del'\n",
    "list_l = [0, 10, 20, 30, 40, 50]\n",
    "\n",
    "del list_l[3]\n",
    "print(list_l)\n",
    "\n",
    "del list_l[-2]\n",
    "print(list_l)\n",
    "\n",
    "# completely delete a list\n",
    "del list_l\n",
    "print(list_l)\n"
   ]
  },
  {
   "cell_type": "markdown",
   "metadata": {},
   "source": [
    "### Summary of Python3 List Methods\n",
    "\n",
    "![Python3 List Methods](images/python-list-methods.jpg)\n",
    "\n",
    "<br>\n",
    "\n",
    "> Read more about Python List methods at [W3Schools List Methods](https://www.w3schools.com/python/python_ref_list.asp)\n",
    "\n",
    "<br>\n",
    "\n",
    "---\n",
    "\n",
    "<br>"
   ]
  },
  {
   "cell_type": "markdown",
   "metadata": {},
   "source": [
    "## Tuples\n",
    "\n",
    "In Python, **a `Tuple` is just a list of values ...**\n",
    "\n",
    "- Tuples store multiple, commas separated items, of any mixed data type, in a single variable\n",
    "- Mostly written with round brackets `()`\n",
    "- Tuple items are ordered, unchangeable, and allow duplicate values\n",
    "- To create a tuple with only one item, you must add a comma after the item, otherwise Python will not recognize it as a tuple\n",
    "- Tuples have a `.len()` method -- among other -- and items are indexed\n",
    "- Tuples respond to all of the general sequencing operations used on strings\n",
    "- Assigning values to a Tuple is known as \"packing\" a tuple\n",
    "\n",
    "> **NOTE:** When generating a tuple with one element (single element tuple), if you write only one object in parentheses (), the parentheses () are ignored and _Not treated as a tuple_. To generate a tuple with one element, a comma , is required at the end.\n",
    "\n",
    "![Python Tuples](./images/tuples_in_python.png)\n",
    "\n",
    "**Ordered:**\n",
    "It means that the items have a defined indexed order, and that order will not change. The first item has index [0], the second item has index [1] etc.\n",
    "\n",
    "**Unchangeable:**\n",
    "Tuples are unchangeable, meaning that we cannot change, add or remove items after the tuple has been created (there are workarounds but that’s for a later time).\n",
    "\n",
    "**Allow Duplicates:**\n",
    "Since tuples are indexed, they can have items with the same value.\n"
   ]
  },
  {
   "cell_type": "code",
   "execution_count": null,
   "metadata": {},
   "outputs": [],
   "source": [
    "# Create a Tuple by defining comma-separated values\n",
    "# Optionally place these comma-separated values between parentheses\n",
    "\n",
    "tup1 = 'physics', 'chemistry', 1997, 2000\n",
    "tup2 = (1, 2, 3, 4, 5)\n",
    "tup3 = \"a\", \"b\", \"c\", \"d\"\n",
    "print(tup1, tup2, tup3)\n",
    "\n",
    "# The empty tuple is written as two parentheses containing nothing\n",
    "tup4 = ()\n",
    "print(\"\\nempty tuple ... \", tup4)\n",
    "\n",
    "# create a single value tuple by including a comma, even though there is only one value\n",
    "tup5 = (50,)\n",
    "print(\"single value tuple ...\", tup5)\n"
   ]
  },
  {
   "cell_type": "code",
   "execution_count": null,
   "metadata": {},
   "outputs": [],
   "source": [
    "# packing a Tuple\n",
    "fruits = (\"apple\", \"banana\", \"cherry\")\n",
    "(green, yellow, red) = fruits\n",
    "\n",
    "print(\"\\nTuple packing ...\")\n",
    "print(\"green=\", green, \"yellow=\", yellow, \"red=\", red)\n"
   ]
  },
  {
   "cell_type": "code",
   "execution_count": null,
   "metadata": {},
   "outputs": [],
   "source": [
    "# access values in tuples using square brackets for slicing, along with the indexes\n",
    "# same as with characters in a string\n",
    "tup6 = ('physics', 'chemistry', 1997, 2000)\n",
    "print(\"\\ntup6[0] ... \", tup6[0])\n",
    "\n",
    "tup7 = (1, 2, 3, 4, 5, 6, 7 )\n",
    "print(\"\\ntup7[1:5] ... \", tup7[1:5])\n"
   ]
  },
  {
   "cell_type": "code",
   "execution_count": null,
   "metadata": {},
   "outputs": [],
   "source": [
    "# count() - Returns the number of times a specified value occurs in a tuple\n",
    "thisTuple = (1, 3, 7, 8, 7, 5, 4, 6, 8, 5)\n",
    "x = thisTuple.count(5)\n",
    "print(\"element count ...\", x)\n",
    "\n",
    "# index() searches for a specified value and returns the index of the value\n",
    "#   -- finds the first occurrence of the specified value\n",
    "#   -- raises an exception if the value is not found\n",
    "thisTuple = (1, 3, 7, 8, 7, 5, 4, 6, 8, 5)\n",
    "x = thisTuple.index(8)\n",
    "print(\"element 1st index\", x)\n"
   ]
  },
  {
   "cell_type": "code",
   "execution_count": null,
   "metadata": {},
   "outputs": [],
   "source": [
    "# Adding tuples\n",
    "tup8 = (12, 34.56)\n",
    "tup9 = ('abc', 'xyz')\n",
    "tup10 = tup8 + tup9\n",
    "print(\"tup10 ...\", tup10)\n",
    "\n",
    "# multiplying tuples\n",
    "timesTuple = tup9 * 3\n",
    "print(\"timesTuple ...\", timesTuple)\n"
   ]
  },
  {
   "cell_type": "markdown",
   "metadata": {},
   "source": [
    "### Built-in Tuple Functions\n",
    "\n",
    "![Python Tuple Functions](images/Python_Tuple_Functions.png)\n",
    "\n",
    "- **len(tuple)** -- Gives the total length of the tuple\n",
    "- **max(tuple)** -- Returns item from the tuple with max value\n",
    "- **min(tuple)** -- Returns item from the tuple with min value\n",
    "- **sum(tuple)** -- Returns the sum of the tuple items\n",
    "\n",
    "- **any(tuple)** -- Returns True if even one item in the tuple has a Boolean value of True, else it returns False\n",
    "- **all(tuple)** -- Unlike any(), all() returns True only if all items have a Boolean value of True. Otherwise, it returns False\n",
    "\n",
    "- **sorted(tuple)** -- returns a sorted version of the tuple; sorting is in ascending order, and it does Not modify the original tuple\n",
    "- **tuple(tuple)** -- This function converts an other constructs -- like lists, strings, and sets -- into a tuple\n"
   ]
  },
  {
   "cell_type": "code",
   "execution_count": null,
   "metadata": {},
   "outputs": [],
   "source": [
    "# Using functions / methods of tuples\n",
    "\n",
    "tup11 = (1, 2, 3, 4, 5, 6, 7, 8)\n",
    "tup12 = (7, 2, 9, 12, 11, 3, 4)\n",
    "\n",
    "print(\"length ...\", len(tup11))\n",
    "print(\"max ...\", max(tup12))\n",
    "print(\"min ...\", min(tup11))\n",
    "print(\"sum ...\", sum(tup12))\n"
   ]
  },
  {
   "cell_type": "code",
   "execution_count": null,
   "metadata": {},
   "outputs": [],
   "source": [
    "# Changing different types TO Tuples\n",
    "\n",
    "tup13 = (7, 1, 5, 2, 3, 9, 4, 8, 12, 11, 3, 6, 4, 10, 2, 1, 5,13)\n",
    "print(\"tuple sorted ... \", sorted(tup13))\n",
    "\n",
    "string1 = \"this is a string\"\n",
    "print(\"string to tuple ... \", tuple(string1))\n",
    "\n",
    "list1 = ['maths', 'che', 'phy', 'bio']\n",
    "tuple14 = tuple(list1)\n",
    "print (\"list to tuple ... \", tuple14)\n",
    "\n",
    "set1 = {'a', 'b', 'c', 'd', 'e'}\n",
    "print(type(set1), \" = \", set1)\n",
    "tuple15 = tuple(set1)\n",
    "print(type(tuple15), \" = \", tuple15)\n"
   ]
  },
  {
   "cell_type": "code",
   "execution_count": null,
   "metadata": {},
   "outputs": [],
   "source": [
    "# Testing for Boolean values (truthyness / falsyness) in Tuples\n",
    "\n",
    "tup6 = ('physics', 'chemistry', 1997, 2000)\n",
    "print(\"any ...\", any(tup6))\n",
    "\n",
    "tup11 = (0, 1, 2, 3, 4, 5, 6, 7, 8)\n",
    "print(\"all ...\", all(tup11))\n"
   ]
  },
  {
   "cell_type": "code",
   "execution_count": null,
   "metadata": {},
   "outputs": [],
   "source": [
    "# Changing Tuples ???\n",
    "tup = ('physics', 'chemistry', 1997, 2000)\n",
    "\n",
    "# This is Not valid for tuples - can't re-assign an element in a Tuple\n",
    "tup[0] = 100\n",
    "\n",
    "# Deleting a Tuple\n",
    "print(tup)\n",
    "del tup\n",
    "print(\"After deleting tup : \")\n",
    "print(tup)\n"
   ]
  },
  {
   "cell_type": "markdown",
   "metadata": {},
   "source": [
    "<br>\n",
    "\n",
    "---\n",
    "\n",
    "<br>\n",
    "\n",
    "## Sets\n",
    "\n",
    "In Python, **`Sets` are just a list of values ...**\n",
    "\n",
    "- A `Set` is a unique collection which is UNORDERED, UNCHANGEABLE & UN-INDEXED\n",
    "- Written in curly brackets `{}`\n",
    "- `Set` items can be of any data type\n",
    "\n",
    "![Sets in Python](./images/python-sets.jpg)\n",
    "\n",
    "**Unordered**\n",
    "It means that the items in a `set` do not have a defined order. `Set` items can appear in a different order every time you use them, and cannot be referred to by index or key.\n",
    "\n",
    "**Unchangeable**\n",
    "`Set` items are unchangeable, meaning that we cannot change the items after the `set` has been created. Once a `set` is created, you cannot change its items, **BUT** _you can remove items and add new items._\n",
    "\n",
    "**Duplicates Not Allowed**\n",
    "`Sets` cannot have two items with the same value. Duplicates are ignored.\n"
   ]
  },
  {
   "cell_type": "code",
   "execution_count": null,
   "metadata": {},
   "outputs": [],
   "source": [
    "#Basic Sets actions\n",
    "thisSet = {\"apple\", \"banana\", \"cherry\"}\n",
    "print(\"thisSet ... \", thisSet)\n",
    "\n",
    "# Duplicate values will be ignored:\n",
    "anotherSet = {\"apple\", \"banana\", \"cherry\", \"apple\"}\n",
    "print(\"anotherSet ... \", anotherSet)\n",
    "\n",
    "# Sets can be of any primitive data types - Integer, Float, String, Boolean.\n",
    "newSet = {\"abc\", 34, True, 40.2, \"male\"}\n"
   ]
  },
  {
   "cell_type": "markdown",
   "metadata": {},
   "source": [
    "### some Python Set Methods ...\n",
    "\n",
    "| Method | Description |\n",
    "|----|----|\n",
    "| `add()` | Adds an element to the set |\n",
    "| `clear()` | Removes all the elements from the set |\n",
    "| `copy()` | Returns a copy of the set |\n",
    "| `difference()` | Returns a set containing the difference between two or more sets |\n",
    "| `discard()` | Remove the specified item |\n",
    "| `intersection()` | Returns a set, that is the intersection of two or more sets |\n",
    "| `issubset()` | Returns whether another set contains this set or not |\n",
    "| `issuperset()` | Returns whether this set contains another set or not |\n",
    "| `pop()` | Removes a random element from the set |\n",
    "| `remove()` | Removes the specified element |\n",
    "| `union()` | Return a set containing the union of sets |\n",
    "| `update()` | Update the set with another set, or any other iterable |\n",
    "\n",
    "<br>\n",
    "\n",
    "> Read more about the different Python Set methods here at [W3Schools - Python Set Methods](https://www.w3schools.com/python/python_ref_set.asp)"
   ]
  },
  {
   "cell_type": "code",
   "execution_count": null,
   "metadata": {},
   "outputs": [],
   "source": [
    "# add some item\n",
    "thisSet = {\"apple\", \"banana\", \"cherry\", \"pawpaw\"}\n",
    "thisSet.add(\"orange\")\n",
    "print(\"thisSet ... \", thisSet)\n"
   ]
  },
  {
   "cell_type": "code",
   "execution_count": null,
   "metadata": {},
   "outputs": [],
   "source": [
    "# loose items from a set\n",
    "thisSet = {\"apple\", \"banana\", \"cherry\", \"pawpaw\", \"orange\"}\n",
    "\n",
    "thisSet.pop()\n",
    "thisSet.remove(\"banana\")\n",
    "thisSet.discard(\"pawpaw\")\n",
    "\n",
    "print(\"reduced thisSet ... \", thisSet)\n"
   ]
  },
  {
   "cell_type": "code",
   "execution_count": null,
   "metadata": {},
   "outputs": [],
   "source": [
    "# UPDATE the set with any other iterable\n",
    "thisSet1 = {\"apple\", \"banana\", \"cherry\"}\n",
    "myList = [\"a\", \"b\", \"c\"]\n",
    "myTuple = (\"1\", \"2\", \"3\")\n",
    "\n",
    "thisSet1.update(myList, myTuple)\n",
    "print(\"\\nupdated Set ... \", thisSet1)\n"
   ]
  },
  {
   "cell_type": "code",
   "execution_count": null,
   "metadata": {},
   "outputs": [],
   "source": [
    "# unite different sets together with UNION\n",
    "thisSet2 = {\"mansion\", \"igloo\", \"tree_house\"}\n",
    "thisSet3 = {\"monkey\", \"guinea_pig\", \"puppy\"}\n",
    "\n",
    "thisSet4 = thisSet2.union(thisSet3)\n",
    "print(\"\\nUnited sets ...\\n\", thisSet4)\n"
   ]
  },
  {
   "cell_type": "code",
   "execution_count": null,
   "metadata": {},
   "outputs": [],
   "source": [
    "# more Sets methods\n",
    "thisSet2 = {\"mansion\", \"igloo\", \"tree_house\"}\n",
    "\n",
    "copySet = thisSet2.copy()\n",
    "print(\"copied set ...\", copySet)\n",
    "\n",
    "thisSet2.clear()\n",
    "print(\"cleared set ... \", thisSet2)\n"
   ]
  },
  {
   "cell_type": "markdown",
   "metadata": {},
   "source": [
    "<br>\n",
    "\n",
    "---\n",
    "\n",
    "<br>\n",
    "\n",
    "## Dictionaries\n",
    "\n",
    "In Python, **`Dictionaries` are used to store data values in `{key:value}` pairs.**\n",
    "\n",
    "- A dictionary is a collection which is ordered, changeable and does Not allow duplicates\n",
    "- Dictionary items are presented in `{key:value}` pairs, and can be referred to by using the `key` name\n",
    "- Written with curly brackets `{ }`\n",
    "- Key:Value pairs / elements separated bu a comma\n",
    "\n",
    "![Dictionaries in Python](./images/dictionaries-in-python.jpg)\n",
    "\n",
    "**Ordered** \n",
    "When we say that dictionaries are ordered, it means that the items have a defined order, and that order will not change\n",
    "\n",
    "**Changeable** \n",
    "Dictionaries are changeable, meaning that we can change, add or remove items after the dictionary has been created.\n",
    "\n",
    "**Duplicates Not Allowed** \n",
    "Dictionaries cannot have two items with the same `key`\n"
   ]
  },
  {
   "cell_type": "code",
   "execution_count": null,
   "metadata": {},
   "outputs": [],
   "source": [
    "# Duplicate values will overwrite existing values\n",
    "aDict = {\n",
    "    \"brand\": \"Ford\",\n",
    "    \"model\": \"Mustang\",\n",
    "    \"year\": 1964,\n",
    "    \"year\": 2020\n",
    "}\n",
    "print(\"aDict ... \", aDict)\n",
    "\n",
    "# The values in dictionary items can be of any data type: String, int, boolean, and lists\n",
    "thisDict = {\n",
    "    \"brand\": \"Ford\",\n",
    "    \"model\": \"Mustang\",\n",
    "    \"electric\": False,\n",
    "    \"year\": 1964,\n",
    "    \"weight\" : \"3049 lbs\",\n",
    "    \"hors_power\": 275,\n",
    "    \"cu-in_capacity\": 288.5,\n",
    "    \"colors\": [\"red\", \"white\", \"blue\"]\n",
    "}\n",
    "print(\"thisDict ...\", thisDict)\n",
    "\n",
    "# Print the data type of a dictionary:\n",
    "print(\"\\ntype of thisDict ... \", type(thisDict))\n"
   ]
  },
  {
   "cell_type": "markdown",
   "metadata": {},
   "source": [
    "### some Python Dictionary Methods ...\n",
    "\n",
    "| Method | Description |\n",
    "|----|----|\n",
    "| `copy()` | Returns a copy of the dictionary |\n",
    "| `update()` | Updates the dictionary with the specified key-value pairs |\n",
    "| `get()` | Returns the value of the specified key |\n",
    "| `items()` | Returns a list containing a tuple for each key value pair |\n",
    "| `keys()` | Returns a list containing the dictionary's keys |\n",
    "| `values()` | Returns a list of all the values in the dictionary |\n",
    "| `pop()` | Removes the element with the specified key |\n",
    "| `popitem()` | Removes the last key-value pair in the dictionary |\n",
    "| `clear()` | Removes all the elements from the dictionary |\n",
    "\n"
   ]
  },
  {
   "cell_type": "code",
   "execution_count": null,
   "metadata": {},
   "outputs": [],
   "source": [
    "# Copy the car dictionary\n",
    "car = {\n",
    "    \"brand\": \"Ford\",\n",
    "    \"model\": \"Mustang\",\n",
    "    \"year\": 1964\n",
    "}\n",
    "x = car.copy()\n",
    "print(\"X copy ...\", x)\n",
    "\n",
    "# Insert an item to the dictionary\n",
    "car.update({\"color\": \"White\"})\n",
    "car.update({\"seats\":2})\n",
    "print(\"new item ...\", car)\n"
   ]
  },
  {
   "cell_type": "code",
   "execution_count": null,
   "metadata": {},
   "outputs": [],
   "source": [
    "# GET the value of the \"model\" item:\n",
    "car = {\n",
    "    \"brand\": \"Ford\",\n",
    "    \"model\": \"Mustang\",\n",
    "    \"year\": 1964\n",
    "}\n",
    "x = car.get(\"model\")\n",
    "print(\"model ...\", x)\n",
    "\n",
    "# Return all the dictionary's key-value pairs:\n",
    "car = {\n",
    "    \"brand\": \"Ford\",\n",
    "    \"model\": \"Mustang\",\n",
    "    \"year\": 1964\n",
    "}\n",
    "x = car.items()\n",
    "print(x)\n",
    "\n",
    "# Return the KEYS:\n",
    "car = {\n",
    "    \"brand\": \"Ford\",\n",
    "    \"model\": \"Mustang\",\n",
    "    \"year\": 1964\n",
    "}\n",
    "x = car.keys()\n",
    "print(x)\n",
    "\n",
    "# Return the VALUES:\n",
    "car = {\n",
    "    \"brand\": \"Ford\",\n",
    "    \"model\": \"Mustang\",\n",
    "    \"year\": 1964\n",
    "}\n",
    "x = car.values()\n",
    "print(x)\n"
   ]
  },
  {
   "cell_type": "code",
   "execution_count": null,
   "metadata": {},
   "outputs": [],
   "source": [
    "# POP \"model\" key from the dictionary:\n",
    "car = {\n",
    "    \"brand\": \"Ford\",\n",
    "    \"model\": \"Mustang\",\n",
    "    \"year\": 1964\n",
    "}\n",
    "car.pop(\"model\")\n",
    "print(\"car w/o model ...\", car)\n",
    "\n",
    "# Remove the last item from the dictionary with POPITEM:\n",
    "car = {\n",
    "    \"brand\": \"Ford\",\n",
    "    \"model\": \"Mustang\",\n",
    "    \"year\": 1964\n",
    "}\n",
    "car.popitem()\n",
    "print(\"car w/o last item ...\", car)\n",
    "\n",
    "# Remove all elements from the car dictionary:\n",
    "car = {\n",
    "    \"brand\": \"Ford\",\n",
    "    \"model\": \"Mustang\",\n",
    "    \"year\": 1964\n",
    "}\n",
    "car.clear()\n",
    "print(\"empty car ...\", car)\n"
   ]
  },
  {
   "cell_type": "code",
   "execution_count": null,
   "metadata": {},
   "outputs": [],
   "source": [
    "# More dictionary exercises\n",
    "myColors = {\"0\": \"red\", \"1\": \"yellow\", \"2\": \"green\", \"3\": \"white\"}\n",
    "print(\"\\nPrinting my colorful Dictionary ... \\n\", myColors)\n",
    "\n",
    "# Add a new color key:value pair to the dictionary --\n",
    "myColors[\"4\"] = \"blue\"\n",
    "print(\"\\nReprinting my  Dictionary ... \\n\", myColors)\n",
    "\n",
    "# create a list containing a dictionary of the keys\n",
    "myKeys = myColors.keys()\n",
    "print(\"\\nPrinting my Keys ... \\n\", myKeys)\n",
    "\n",
    "# create a list containing a dictionary of the values\n",
    "myValues = myColors.values()\n",
    "print(\"\\nPrinting my Values ... \\n\", myValues, \"\\n \")\n",
    "\n",
    "# Looping over dictionaries  -- more on loops to follow ...\n",
    "print(\"Content of the Keys list ...\")\n",
    "for element in myKeys:\n",
    "    print(element)\n",
    "\n",
    "print(\"Content of the values list ...\")\n",
    "for vrm in myValues:\n",
    "    print(vrm)\n"
   ]
  },
  {
   "attachments": {},
   "cell_type": "markdown",
   "metadata": {},
   "source": [
    "\n",
    "---\n",
    "\n",
    "## Summary\n",
    "\n",
    "In this Section we learned about some of the compound Python data collections / data types  ...\n",
    "- Lists and List operations\n",
    "- Tuples and build-in Tuple functions\n",
    "- Sets and some Set methods / functions\n",
    "- The power and importance of Dictionaries, dictionary methods and how to use Dictionaries \n",
    "\n",
    "> There are several different Python data types we did not look at.\n",
    "\n",
    "To learn more about the principal built-in Python data types -- numerics, sequences, mappings, classes, instances and exceptions -- consult the official Python 3 documentation on ... [Built-in Types](https://docs.python.org/3/library/stdtypes.html) at https://docs.python.org/3/library/stdtypes.html."
   ]
  }
 ],
 "metadata": {
  "kernelspec": {
   "display_name": "Python 3.10.7 64-bit",
   "language": "python",
   "name": "python3"
  },
  "language_info": {
   "codemirror_mode": {
    "name": "ipython",
    "version": 3
   },
   "file_extension": ".py",
   "mimetype": "text/x-python",
   "name": "python",
   "nbconvert_exporter": "python",
   "pygments_lexer": "ipython3",
   "version": "3.10.7 (tags/v3.10.7:6cc6b13, Sep  5 2022, 14:08:36) [MSC v.1933 64 bit (AMD64)]"
  },
  "orig_nbformat": 4,
  "vscode": {
   "interpreter": {
    "hash": "369f2c481f4da34e4445cda3fffd2e751bd1c4d706f27375911949ba6bb62e1c"
   }
  }
 },
 "nbformat": 4,
 "nbformat_minor": 2
}
