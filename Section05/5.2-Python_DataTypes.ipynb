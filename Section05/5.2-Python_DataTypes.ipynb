{
 "cells": [
  {
   "attachments": {},
   "cell_type": "markdown",
   "metadata": {},
   "source": [
    "# Python Data Types and Variables\n",
    "\n",
    "The OBJECTIVES of This Section: Learn about ...\n",
    "\n",
    "- Python Variables\n",
    "- Python Data Types\n",
    "- Strings in Python\n",
    "- Comparison and Logical operators\n",
    "\n",
    "<br>\n",
    "\n",
    "---\n",
    "\n",
    "<br>\n",
    "\n",
    "## Python Variables\n",
    "\n",
    "### What are Variables\n",
    "\n",
    "- Containers for storing data values\n",
    "- No command for declaring a variable\n",
    "- A variable is create it as soon as you assign a value to it!\n",
    "\n",
    "### Assigning Variable Names\n",
    "\n",
    "- A variable name must start with a letter or the underscore character (`_`).\n",
    "- A variable name cannot start with a number.\n",
    "- A variable name can only contain alpha-numeric characters and underscores (A-z, 0-9, and _ )\n",
    "- Variable names are case-sensitive (age, Age and AGE are three different variables)\n",
    "\n",
    "### Python Reserved words\n",
    "\n",
    "There are some restricted words that are built-in to Python which cannot be used as variable names. Reserved words (also called keywords) have a predefined meaning and use in Python.\n",
    "\n",
    "Here is the list of all the reserved words in Python.\n",
    "> Note - This list may change with different versions of Python. Currently Python 3 has 33 Reserved Words.\n",
    "\n",
    "|    |    |    |\n",
    "|----|----|----|\n",
    "| FALSE | TRUE | pass |\n",
    "| None | else | nonlocal |\n",
    "| elif | except | not |\n",
    "| and | finally | or |\n",
    "| as | for | lambda |\n",
    "| assert | form | raise |\n",
    "| break | global | return |\n",
    "| class | if | try |\n",
    "| continue | import | while |\n",
    "| def | in | with |\n",
    "| del | is | yield |\n",
    "\n"
   ]
  },
  {
   "cell_type": "code",
   "execution_count": null,
   "metadata": {},
   "outputs": [],
   "source": [
    "# creating a variable and assigning it a value\n",
    "x = 8\n",
    "y = \"brothers\"\n",
    "print(x)\n",
    "print(y)\n",
    "\n",
    "# Legal variable names:\n",
    "myvar = \"John\"\n",
    "_myvar = \"John\"\n",
    "my_var = \"John\"\n",
    "_my_var = \"John\"\n",
    "myVar = \"John\"\n",
    "MYVAR = \"John\"\n",
    "Myvar = \"John\"\n",
    "MyVar = \"John\""
   ]
  },
  {
   "cell_type": "code",
   "execution_count": null,
   "metadata": {},
   "outputs": [],
   "source": [
    "# Multi Word Variable Names\n",
    "fruits = ['apple', 'banana', 'cherry']\n",
    "a = b = c = fruits \n",
    "print(a)\n",
    "print(b)\n",
    "print(c)\n"
   ]
  },
  {
   "cell_type": "code",
   "execution_count": null,
   "metadata": {},
   "outputs": [],
   "source": [
    "# assigning multiple variables\n",
    "g, h, i = \"Orange\", \"Banana\", \"Cherry\"\n",
    "print(g, h, i)\n",
    "\n",
    "# reassigning variables\n",
    "g = h = i = \"Orange\"\n",
    "print(g, h, i)\n"
   ]
  },
  {
   "cell_type": "code",
   "execution_count": null,
   "metadata": {},
   "outputs": [],
   "source": [
    "# Output and Variables\n",
    "\n",
    "d = \"awesome\"\n",
    "print(\"Python is \" + d)\n",
    "\n",
    "d = \"Python is \"\n",
    "e = \"awesome\"\n",
    "f = d + e\n",
    "print(f) \n",
    "\n",
    "d = 5\n",
    "e = 10\n",
    "print(d+e)\n",
    "\n",
    "d = 5\n",
    "e = \"John\"\n",
    "print(d + e)\n"
   ]
  },
  {
   "attachments": {},
   "cell_type": "markdown",
   "metadata": {},
   "source": [
    "\n",
    "---\n",
    "\n",
    "## Global Variables\n",
    "\n",
    "Global variables hold their value throughout the lifetime of the program.\n"
   ]
  },
  {
   "cell_type": "code",
   "execution_count": null,
   "metadata": {},
   "outputs": [],
   "source": [
    "# Here is the global variable J\n",
    "j = \"awesome\"\n",
    "\n",
    "def myfunc1():\n",
    "    print(\"Python is \" + j)\n",
    "    \n",
    "myfunc1()\n",
    "\n",
    "print(\"j is =\", j)\n",
    "\n",
    "def myfunc2():\n",
    "    j = \"fantastic\"\n",
    "    k = \"amazing\"\n",
    "    print(\"\\nPython is \" + j)\n",
    "    print(\"j in myFunc2 =\", j)\n",
    "    print(\"h in myFunc2 =\", k)\n",
    "\n",
    "myfunc2()\n",
    "\n",
    "# j is still awesome!\n",
    "print(\"\\nj still =\", j)\n",
    "\n",
    "# But k does does not exist\n",
    "print(\"k outside myFunc2 =\", k)\n"
   ]
  },
  {
   "attachments": {},
   "cell_type": "markdown",
   "metadata": {},
   "source": [
    "<br>\n",
    "\n",
    "---\n",
    "\n",
    "<br>\n",
    "\n",
    "## Python Data Types\n",
    "\n",
    "| Examples of data types | Data Type |\n",
    "|---------|-----------|\n",
    "| `x = “Hello World”` | string (str) |\n",
    "| `x = 20` | integer (int) |\n",
    "| `x = 20.5` (numbers with a decimal point) | Floating-Point Numbers (float) |\n",
    "| `x = [“apple”, “banana”, “cherry”]`\t| list |\n",
    "| `x = (“apple”, “banana”, “cherry”)` | tuple |\n",
    "| `x = range(5)` | range |\n",
    "| `x = {“name” : “John”,  “age” : 36}` | dictionary (dict) |\n",
    "| `x = True` | boolean |\n",
    "\n",
    "<br>\n",
    "\n",
    "> Note: This is not a complete list as there are several other Python data types.\n"
   ]
  },
  {
   "cell_type": "markdown",
   "metadata": {},
   "source": [
    "### Casting Data Types\n",
    "\n",
    "You can put the data type in front of a data element if you want to specify the data type.\n",
    "This is called **\"Casting\"**."
   ]
  },
  {
   "cell_type": "code",
   "execution_count": null,
   "metadata": {},
   "outputs": [],
   "source": [
    "# casting to a string\n",
    "h = str('hello, world!')\n",
    "print(h)\n",
    "\n",
    "# casting to an integer\n",
    "i = int(20.5)\n",
    "print(i)\n",
    "\n",
    "# casting to a float\n",
    "j = float(20)\n",
    "print(j)\n",
    "\n",
    "# casting to a string\n",
    "k = str(144.5)\n",
    "print(k)\n",
    "\n",
    "# You can check the data type of a value by using `type()`\n",
    "print(\"h is ...\", type(h))\n",
    "print(\"i is ...\", type(i))\n",
    "print(\"j is ...\", type(j))\n",
    "print(\"k is ...\", type(k))\n"
   ]
  },
  {
   "cell_type": "markdown",
   "metadata": {},
   "source": [
    "<br>\n",
    "\n",
    "---\n",
    "\n",
    "<br>\n",
    "\n",
    "## Python Strings\n",
    "\n",
    "- Strings are surrounded by either single quotation marks (`'string'`) or double quotation marks (`\"string\"`).\n",
    "\n",
    "- Multi-line strings are designated with trippe (3x) double or single quotes (`\"\"\" / \"\"\"`) or (`''' / '''`)\n",
    "\n",
    "- You can assign a string to any variable `aS = “Hello”`\n",
    "\n",
    "- Strings in Python are arrays of bytes representing unicode characters\n",
    "\n"
   ]
  },
  {
   "cell_type": "code",
   "execution_count": null,
   "metadata": {},
   "outputs": [],
   "source": [
    "# Below are examples of multiline strings\n",
    "\n",
    "\"\"\"\n",
    "this is a multi line string\n",
    "Because it contains more than\n",
    "One line of text\n",
    "\"\"\"\n",
    "\n",
    "a = 'hello'\n",
    "\n",
    "'''\n",
    "Above, \"hello\" is assigned to the variable a\n",
    "'''\n"
   ]
  },
  {
   "cell_type": "markdown",
   "metadata": {},
   "source": [
    "#### To find the length of a string, use `len()`"
   ]
  },
  {
   "cell_type": "code",
   "execution_count": null,
   "metadata": {},
   "outputs": [],
   "source": [
    "# use len() to find the length of a string+\n",
    "\n",
    "a = \"Hello World!\"\n",
    "print(\"The length of a is ... \", len(a))\n"
   ]
  },
  {
   "cell_type": "markdown",
   "metadata": {},
   "source": [
    "Counting in Python starts with \"`0`\". When counting the length of a string, it includes ALL spaces inside the quotation marks\n",
    "\n",
    "> Exception: when you are counting backwards -- then counting starts at `1`.\n"
   ]
  },
  {
   "cell_type": "markdown",
   "metadata": {},
   "source": [
    "#### Finding  character positions in a string"
   ]
  },
  {
   "cell_type": "code",
   "execution_count": null,
   "metadata": {},
   "outputs": [],
   "source": [
    "# counting characters in a string...\n",
    "\n",
    "L = \"lemonade shake\"\n",
    "\n",
    "print(\"Element 1 = \", L[0])\n",
    "print(\"Element 2 = \",  L[1])\n",
    "print(\"Element 6 = \",  L[5])\n",
    "\n",
    "print(\"Element -1 = \", L[-1])\n",
    "print(\"Element -2 = \",  L[-2])\n",
    "print(\"Element -6 = \",  L[-6])\n"
   ]
  },
  {
   "cell_type": "markdown",
   "metadata": {},
   "source": [
    "#### Finding something -- a subset -- in a string"
   ]
  },
  {
   "cell_type": "code",
   "execution_count": null,
   "metadata": {},
   "outputs": [],
   "source": [
    "# finding a sub-string within a string...\n",
    "\n",
    "txt = \"The best class in Saint Louis\"\n",
    "\n",
    "if \"best\" in txt:\n",
    "\tprint(\"Yes, 'best' is present.\")\n",
    "\n",
    "# print only if \"expensive\" is NOT present:\n",
    "txt = \"The best things in life are free!\"\n",
    "if \"expensive\" not in txt:\n",
    "    print(\"No, 'expensive' is NOT present.\")\n"
   ]
  },
  {
   "cell_type": "markdown",
   "metadata": {},
   "source": [
    "#### Slicing Strings:\n",
    "\n",
    "`Slicing` is the Cutting or Copying of parts form a string, and it returns a range of characters.\n",
    "\n",
    "- Ranges start at the number on the left but don’t include the number on the right.\n",
    "- When counting from the front, Indexes start at `0`\n",
    "- No number on the left means the count starts at the beginning of the string -- (:5)\n",
    "- No number on the right means the count goes to the end of the string -- (2:)\n",
    "- When counting from the back/end of a string, the count starts at the 1st position at `1`\n",
    "- A minus sign means to start counting from the back `[-5]`\n",
    "\n",
    "<br>\n",
    "\n",
    "![Slicing in Python](./images/String_slicing.png)\n",
    "\n",
    "<br>"
   ]
  },
  {
   "cell_type": "code",
   "execution_count": null,
   "metadata": {},
   "outputs": [],
   "source": [
    "# Ranges start at number on the left - don’t include number on the right\n",
    "s = \"Hello World!\"\n",
    "print(s[2:5])\n",
    "\n",
    "# Slicing a string From the start -- no numbers at the left\n",
    "s = \"Hello World!\"\n",
    "print(s[:5])\n",
    "\n",
    "# Slicing to the end -- no numbers to the right\n",
    "s = \"Hello World!\"\n",
    "print(s[2:])\n",
    "\n",
    "# Negative Indexing -- Count back 5 but DON'T include the last 2 elements\n",
    "s = \"Hello World!\"\n",
    "print(s[-5:-2])\n"
   ]
  },
  {
   "cell_type": "markdown",
   "metadata": {},
   "source": [
    "#### Temporarily changing text in a string"
   ]
  },
  {
   "cell_type": "code",
   "execution_count": null,
   "metadata": {},
   "outputs": [],
   "source": [
    "# Temporarily changing text in a string\n",
    "c = \"Hello World!\"\n",
    "print(c.replace(\"H\", \"J\"))\n",
    "\n",
    "d = c.replace(\"World\", \"Fellow\")\n",
    "print(c)\n",
    "print(d)\n"
   ]
  },
  {
   "cell_type": "markdown",
   "metadata": {},
   "source": [
    "#### Concatenation of strings"
   ]
  },
  {
   "cell_type": "code",
   "execution_count": null,
   "metadata": {},
   "outputs": [],
   "source": [
    "# Concatenation or joining of strings\n",
    "a = \"Hello\"\n",
    "b = \"World\"\n",
    "c = a + b\n",
    "print(c)\n",
    "d = a + \" \" + b\n",
    "print(d)\n"
   ]
  },
  {
   "cell_type": "markdown",
   "metadata": {},
   "source": [
    "#### Formatting Strings\n",
    "\n",
    "String formatting is the process of infusing things in the string dynamically and presenting the string. \n",
    "\n",
    "**Method 1: Concatenating with variables**\n",
    "Using variables to concatenate sections of strings together.\n"
   ]
  },
  {
   "cell_type": "code",
   "execution_count": null,
   "metadata": {},
   "outputs": [],
   "source": [
    "# Concatenating with variables\n",
    "name = \"John\"\n",
    "age = \"36\"\n",
    "txt = \"My name is \" + name + \", I am \" + age + \" years old.\"\n",
    "print(txt)\n"
   ]
  },
  {
   "cell_type": "markdown",
   "metadata": {},
   "source": [
    "**Method 2: Formatting string using the percentage `%` Operator**"
   ]
  },
  {
   "cell_type": "code",
   "execution_count": null,
   "metadata": {},
   "outputs": [],
   "source": [
    "# Formatting string using `%` Operator\n",
    "print(\"The mangy, stray dog %s gobbled down the food.\" %\"hurriedly\")\n"
   ]
  },
  {
   "cell_type": "markdown",
   "metadata": {},
   "source": [
    "**Method 3: Formatting string using the `.format()` method**\n",
    "\n",
    "Formatters work by putting in one or more replacement fields and placeholders defined by a pair of curly braces { } into a string and calling the str.format().\n"
   ]
  },
  {
   "cell_type": "code",
   "execution_count": null,
   "metadata": {},
   "outputs": [],
   "source": [
    "# Formatting string using .format() method\n",
    "quantity = 3\n",
    "itemNo = 567\n",
    "price = 49.95\n",
    "myOrder = \"I want {} pieces of item {} for {} dollars.\"\n",
    "print(myOrder.format(quantity, itemNo, price))\n"
   ]
  },
  {
   "cell_type": "markdown",
   "metadata": {},
   "source": [
    "**Method 4: f-Strings: A New and Improved Way to Format Strings in Python**\n",
    "\n",
    "Also called “formatted string literals,” f-strings are string literals that have an f at the beginning and curly braces containing expressions that will be replaced with their values. \n",
    "\n",
    "The syntax is similar to the one you used with str.format() but less verbose. Look at how easily readable this is:\n",
    "\n",
    "```python\n",
    "    name = \"Eric\"\n",
    "    age = 74\n",
    "    print(f\"Hello, {name}. You are {age}.\")\n",
    "```\n",
    "\n",
    "It would also be valid to use a capital letter `F`\n",
    "\n",
    "Because f-strings are evaluated at runtime, you can put any and all valid Python expressions in them. This allows you to do some nifty things.\n",
    "\n",
    "You could do something pretty straightforward, like this:\n",
    "\n",
    "```python\n",
    "    f\"{2 * 37}\"\n",
    "```\n"
   ]
  },
  {
   "cell_type": "code",
   "execution_count": null,
   "metadata": {},
   "outputs": [],
   "source": [
    "# But you could also call functions. Here’s an example:\n",
    "def to_lowercase(input):\n",
    "    return input.lower()\n",
    "\n",
    "name = \"Eric Idle\"\n",
    "f\"{to_lowercase(name)} is funny.\"\n",
    "\n",
    "# You also have the option of calling a method directly:\n",
    "f\"{name.lower()} is funny.\""
   ]
  },
  {
   "cell_type": "code",
   "execution_count": null,
   "metadata": {},
   "outputs": [],
   "source": [
    "# Multiline f-Strings -- You can have multiline strings:\n",
    "name = \"Eric\"\n",
    "profession = \"comedian\"\n",
    "affiliation = \"Monty Python\"\n",
    "\n",
    "message = (\n",
    "    f\"Hi {name}. \"\n",
    "    f\"You are a {profession}. \"\n",
    "    f\"You were in {affiliation}.\"\n",
    ")\n",
    "print(message)\n",
    "\n",
    "# But remember to place an `f`` in front of each line of a multiline string"
   ]
  },
  {
   "cell_type": "markdown",
   "metadata": {},
   "source": [
    "### String Methods and functions\n",
    "\n",
    "There is a large collection of methods and functions that can be applied the strings.\n",
    "> Note: All string methods returns new values. They do not change the original string.\n",
    "\n",
    "- Read more about String Methods here at [W3Schools - Python String Methods](https://www.w3schools.com/python/python_ref_string.asp)\n",
    "\n",
    "<br>\n",
    "\n",
    "---\n",
    "\n",
    "<br>"
   ]
  },
  {
   "attachments": {},
   "cell_type": "markdown",
   "metadata": {},
   "source": [
    "## Python  Operators\n",
    "\n",
    "In Python we work with several different types of Operators -- Mathematical Operators, Comparison Operators, Logical Operators, and Booleans.\n",
    "\n",
    "These operators are important for managing comparisons, flow, branching and decision making processes in your code base.\n",
    "\n",
    "\n",
    "### **Mathematical Operators**\n",
    "\n",
    "| Operator | Name | Example |\n",
    "|----|----|----|\n",
    "| `+` | Addition | x + y |\n",
    "| `-` | Subtraction | x - y |\n",
    "| `*` | Multiplication | x * y |\n",
    "| `/` | Division | x / y |\n",
    "| `%` | Modulus | x % y |\n",
    "| `**` | Exponentiation | x ** y |\n",
    "| `//` | Floor division | x // y |\n",
    "\n",
    "<br>\n",
    "\n",
    "- the Modulus operator returns the remainder of a division operation\n",
    "- the floor division // rounds the result down to the nearest whole number\n",
    "\n",
    "> When more than one operator appears in an expression, the order of evaluation depends on the rules of precedence. Python follows the same precedence rules for its mathematical operators that mathematics does.\n",
    "\n",
    "<br>\n",
    "\n",
    "### **Comparison Operators**\n",
    "\n",
    "| Operator | Name | Example |\n",
    "|----|----|----|\n",
    "| == | Equal | a == b |\n",
    "| != | Not Equal | a != b |\n",
    "| > | Greater Than | a > b |\n",
    "| < | Less Than | a < b |\n",
    "| >= | Greater than OR equal to | a >= b |\n",
    "| <= | Less than OR equal to | a <= b |\n",
    "\n",
    "<br>\n",
    "\n",
    "#### **Booleans**\n",
    "\n",
    "Booleans represent one of two values: True or False\n",
    "\n",
    "- You often need to know if an expression is true or false\n",
    "- You can evaluate any expression and get one of two answers\n",
    "- When you compare two values, the expression is evaluated and Python returns the BOOLEAN answer.\n",
    "\n",
    "<br>\n",
    "\n",
    "#### Read all about Python Operators at this link [W3Schools - Python Operators](https://www.w3schools.com/python/python_operators.asp)\n",
    "\n",
    "<br>\n"
   ]
  },
  {
   "cell_type": "code",
   "execution_count": null,
   "metadata": {},
   "outputs": [],
   "source": [
    "# is an expression true or false\n",
    "print(10 > 9)\n",
    "\n",
    "# evaluate any expression\n",
    "print(9 <= 5)\n",
    "\n",
    "# comparing two values\n",
    "print(10 == 5)\n"
   ]
  },
  {
   "attachments": {},
   "cell_type": "markdown",
   "metadata": {},
   "source": [
    "<br>\n",
    "\n",
    "### **Logical Operators**\n",
    "\n",
    "Logical operators are operations between two logical expressions that we call `P` and `Q`. **The fundamental logical operators we will use herein are `and`, `or`, and `not`**.\n",
    "\n",
    "| Operator | Description | Results |\n",
    "|----|----|----|\n",
    "| and | P and Q | True if both P and Q are True; False otherwise |\n",
    "| or | P or Q | True if either P or Q is True; False otherwise |\n",
    "| not | not P | True if P is False; False if P is True |\n",
    "\n",
    "<br>\n",
    "\n",
    "> Just as with arithmetic operators, logical operators have an order of operations relative to each other and in relation to arithmetic operators. \n",
    "> \n",
    "> All arithmetic operations will be executed before comparison operations, which will be executed before logical operations. Parentheses can be used to change the order of operations.\n"
   ]
  },
  {
   "cell_type": "code",
   "execution_count": null,
   "metadata": {},
   "outputs": [],
   "source": [
    "\"\"\"\n",
    "Assuming P is true, \n",
    "use Python to determine if the expression \n",
    "(P AND NOT(Q)) OR (P AND Q) is always true \n",
    "regardless of whether or not Q is true.\n",
    "\n",
    "Logically, can you see why this is the case? \n",
    "First assume Q is true, then set Q as false\n",
    "\"\"\"\n",
    "\n",
    "P = 1\n",
    "Q = 1\n",
    "print((P and (not Q)) or (P and Q))\n"
   ]
  },
  {
   "cell_type": "markdown",
   "metadata": {},
   "source": [
    "<br>\n",
    "\n",
    "### Truthy and Falsy Values\n",
    "\n",
    "In Python, individual values can evaluate to either True or False. They do not necessarily have to be part of a larger expression to evaluate to a truth value because they already have one that has been determined by the rules of the Python language.\n",
    "\n",
    "- According to the Python Documentation: - Any object can be tested for truth value, for use in an `if` or `while` condition or as operand of the Boolean operations (and, or, not).\n",
    "- According to the Python Documentation: - By default, any object is considered true.\n",
    "\n",
    "**Truthy Values:**\n",
    "\n",
    "- Non-empty sequences or collections (lists, tuples, strings, dictionaries, sets)\n",
    "- All alphabetic characters\n",
    "- Numeric values that are not zero (`0`, `0.0`, etc.)\n",
    "- True\n",
    "\n",
    "**Falsy Values:**\n",
    "\n",
    "- _Empty_ sequences and collections (lists, tuples, strings, dictionaries, sets)\n",
    "- Zero of any numeric type\n",
    "- None\n",
    "- False\n"
   ]
  },
  {
   "cell_type": "code",
   "execution_count": null,
   "metadata": {},
   "outputs": [],
   "source": [
    "# testing truthyness / falsyness\n",
    "b = 0\n",
    "c = \"sea\"\n",
    "d = \"0\"\n",
    "if \"a\":\n",
    "    print(\"a is truthy\")\n",
    "if b:\n",
    "    print(\"b is truthy\")\n",
    "if c:\n",
    "    print(\"c is truthy\")\n",
    "if d:\n",
    "    print(\"d is truthy\")\n"
   ]
  },
  {
   "attachments": {},
   "cell_type": "markdown",
   "metadata": {},
   "source": [
    "## Summary\n",
    "\n",
    "In this section we were introduced to ...\n",
    "- Python Variables, Global variables, and variable naming\n",
    "- We also learned about the Python Reserved words\n",
    "- 8 different Python Data Types: The 4 primitive types int, float, str, and boolean; and some Composite Data Types like list, tuple, dictionary and range (there are several other Python data types)\n",
    "- More about Strings and string methods in Python\n",
    "- Python Operators line mathematical, comparison and Logical operators\n",
    "\n",
    "These building blocks are part of the foundational tools in our Python toolbox; these will eventually help us to write code to solve complex problems."
   ]
  }
 ],
 "metadata": {
  "kernelspec": {
   "display_name": "Python 3.10.7 64-bit",
   "language": "python",
   "name": "python3"
  },
  "language_info": {
   "codemirror_mode": {
    "name": "ipython",
    "version": 3
   },
   "file_extension": ".py",
   "mimetype": "text/x-python",
   "name": "python",
   "nbconvert_exporter": "python",
   "pygments_lexer": "ipython3",
   "version": "3.10.7 (tags/v3.10.7:6cc6b13, Sep  5 2022, 14:08:36) [MSC v.1933 64 bit (AMD64)]"
  },
  "orig_nbformat": 4,
  "vscode": {
   "interpreter": {
    "hash": "369f2c481f4da34e4445cda3fffd2e751bd1c4d706f27375911949ba6bb62e1c"
   }
  }
 },
 "nbformat": 4,
 "nbformat_minor": 2
}
